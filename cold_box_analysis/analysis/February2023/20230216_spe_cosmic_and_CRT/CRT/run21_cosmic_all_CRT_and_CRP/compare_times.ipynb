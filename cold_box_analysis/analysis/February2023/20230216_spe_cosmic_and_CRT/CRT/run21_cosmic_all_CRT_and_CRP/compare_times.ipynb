{
 "cells": [
  {
   "cell_type": "code",
   "execution_count": null,
   "id": "74070d9d-0066-4929-9c65-d1eeaef2b221",
   "metadata": {},
   "outputs": [],
   "source": [
    "%matplotlib inline\n",
    "import numpy as np\n",
    "import pandas as pd\n",
    "import matplotlib.pyplot as plt\n",
    "#import scienceplots"
   ]
  },
  {
   "cell_type": "code",
   "execution_count": null,
   "id": "2922ffd9-5c2e-416a-8a12-d9ff162ce363",
   "metadata": {},
   "outputs": [],
   "source": [
    "class DATA():\n",
    "    def __init__(self):\n",
    "        self.time = 0\n",
    "        self.event = 0\n",
    "        \n",
    "def getData(det, file):\n",
    "    df = pd.read_csv(file, delimiter=',', header=0)\n",
    "    df = df.set_axis(['event','time'], axis = 1)\n",
    "    det.event = df['event'].to_numpy(dtype=float)\n",
    "    det.time = df['time'].to_numpy(dtype=float)"
   ]
  },
  {
   "cell_type": "code",
   "execution_count": null,
   "id": "bb689da6-de49-4d9e-8214-791a9857f72b",
   "metadata": {},
   "outputs": [],
   "source": [
    "PDS = DATA()\n",
    "CRT = DATA()\n",
    "\n",
    "getData(PDS, \"PDS_TriggerTimesFull.txt\")\n",
    "getData(CRT, \"CRT_TriggerTimesFull.txt\")\n",
    "\n",
    "CRT.event[True] = 0.5\n",
    "PDS.event[True] = 0.5\n"
   ]
  },
  {
   "cell_type": "code",
   "execution_count": null,
   "id": "d42a0bb6-e545-40be-a707-606b20646faa",
   "metadata": {},
   "outputs": [],
   "source": []
  },
  {
   "cell_type": "code",
   "execution_count": null,
   "id": "6973a34f-57c5-40bf-963f-0fede4d54b77",
   "metadata": {},
   "outputs": [],
   "source": []
  },
  {
   "cell_type": "code",
   "execution_count": null,
   "id": "50804262-13b7-4472-8486-b49e752bb869",
   "metadata": {},
   "outputs": [],
   "source": [
    "maxtime = 20\n",
    "binsmult = 10\n",
    "H = [0]*3\n",
    "yedges = [0]*3\n",
    "xedges = [0]*3\n",
    "H[0], yedges[0], xedges[0] = np.histogram2d(PDS.event, PDS.time, bins=(1,maxtime*binsmult), range = [[0,1],[0,maxtime]])\n",
    "H[1], yedges[1], xedges[1] = np.histogram2d(CRT.event, CRT.time, bins=(1,maxtime*binsmult), range = [[0,1],[0,maxtime]])\n",
    "H[2], yedges[2], xedges[2] = np.histogram2d(CRT.event, CRT.time, bins=(1,maxtime*binsmult), range = [[0,1],[0,maxtime]])\n",
    "\n",
    "H[0][H[0]==0] = np.nan\n",
    "H[1][H[1]==0] = np.nan\n",
    "\n",
    "H[2] = H[0]+H[1]\n",
    "H[2][H[2]>=2] = 1\n",
    "#print(np.sum(H[2]))\n",
    "H[2][H[2]==0] = np.nan\n"
   ]
  },
  {
   "cell_type": "code",
   "execution_count": null,
   "id": "45b8da8d-e2cc-4cd4-8359-6a935c4517d0",
   "metadata": {},
   "outputs": [],
   "source": [
    "#plt.style.use(['science', 'notebook'])\n",
    "fig, axs = plt.subplots(3, 1, sharex=True, figsize=(20,7))\n",
    "fig.subplots_adjust(hspace=0)\n",
    "\n",
    "descript = [\"PDS\", \"CRT\", \"Combined\"]\n",
    "for i, ax in enumerate(axs):\n",
    "    X, Y = np.meshgrid(xedges[i], yedges[i])\n",
    "    pcm = ax.pcolormesh(X, Y, H[i])\n",
    "    ax.tick_params(left=False, right=False, top=True, direction='in', labelleft=False, labelsize=15)\n",
    "    ax.set_ylabel(descript[i], fontsize=15)\n",
    "    axs[2].set_xlabel(\"Time (s)\", fontsize=15)\n",
    "    cax = ax.inset_axes([1.0,0.1,0.02,0.9])\n",
    "    plt.colorbar(pcm, ax = ax, cax = cax)\n",
    "\n",
    "plt.savefig(\"time_display.png\", bbox_inches='tight')"
   ]
  },
  {
   "cell_type": "code",
   "execution_count": null,
   "id": "57602eec-fad0-4118-b22f-13825b356806",
   "metadata": {},
   "outputs": [],
   "source": [
    "PDS = DATA()\n",
    "\n",
    "getData(PDS, \"PDS_TriggerTimesFull.txt\")\n",
    "PDS.event[True] = 0.5\n",
    "#print(PDS.time)\n",
    "maxtime = 130\n",
    "binsmult = 100\n",
    "H = [0]*3\n",
    "yedges = [0]*3\n",
    "xedges = [0]*3\n",
    "for i in range(0,4):\n",
    "    reftime = PDS.time[1]\n",
    "    PDS.time = np.delete(PDS.time, 0)\n",
    "    PDS.event = np.delete(PDS.event, 0)\n",
    "    PDS.time = PDS.time-reftime\n",
    "    #print(PDS.time)\n",
    "    #print(reftime)\n",
    "    H[0], yedges[0], xedges[0] = np.histogram2d(PDS.event, PDS.time, bins=(1,maxtime*binsmult), range = [[0,1],[-0.01,maxtime]])\n",
    "    H[1], yedges[1], xedges[1] = np.histogram2d(CRT.event, CRT.time, bins=(1,maxtime*binsmult), range = [[0,1],[-0.01,maxtime]])\n",
    "    H[2], yedges[2], xedges[2] = np.histogram2d(CRT.event, CRT.time, bins=(1,maxtime*binsmult), range = [[0,1],[-0.01,maxtime]])\n",
    "\n",
    "    for j, (hpds, hcrt) in enumerate(zip(H[0][0],H[1][0])):\n",
    "        if hcrt != 0 and hpds != 0:\n",
    "            H[2][0][j] = (hcrt+hpds)//2\n",
    "        else:\n",
    "            H[2][0][j] = np.nan\n",
    "    H[0][H[0]==0] = np.nan\n",
    "    H[1][H[1]==0] = np.nan\n",
    "\n",
    "print(f'{i} {np.nansum(H[2])}')\n",
    "print(f'{i} {np.nansum(H[1])}')\n",
    "print(f'{np.nansum(H[2])/np.nansum(H[1])}')"
   ]
  },
  {
   "cell_type": "code",
   "execution_count": null,
   "id": "ec1da5a9-96ea-493b-bc6a-c7946df6d73d",
   "metadata": {},
   "outputs": [],
   "source": [
    " \n",
    "#plt.style.use(['science', 'notebook'])\n",
    "fig, axs = plt.subplots(3, 1, sharex=True, figsize=(20,7))\n",
    "fig.subplots_adjust(hspace=0)\n",
    "descript = [\"PDS\", \"CRT\", \"Combined\"]\n",
    "for i, ax in enumerate(axs):\n",
    "    X, Y = np.meshgrid(xedges[i], yedges[i])\n",
    "    pcm = ax.pcolormesh(X, Y, H[i])\n",
    "    ax.tick_params(left=False, right=False, top=True, direction='in', labelleft=False, labelsize=15)\n",
    "    ax.set_ylabel(descript[i], fontsize=15)\n",
    "    axs[2].set_xlabel(\"Time (s)\", fontsize=15)\n",
    "    cax = ax.inset_axes([1.0,0.1,0.02,0.9])\n",
    "    plt.colorbar(pcm, ax = ax, cax = cax)\n",
    "    plt.savefig(\"time_display_full_shifted.png\", bbox_inches='tight')\n",
    "    a = 125\n",
    "    plt.xlim(a,a+5)\n",
    "\n",
    "\n",
    "print(PDS.time[50:75])\n",
    "print(CRT.time[50:60])\n"
   ]
  },
  {
   "cell_type": "code",
   "execution_count": null,
   "id": "3b5daee4-363f-40a0-8fff-6f8b680d48fd",
   "metadata": {},
   "outputs": [],
   "source": [
    "arrayidx = np.where((X[0]>0) & (X[0]<130))\n",
    "print(np.nansum(H[2][0][arrayidx[0][0]:arrayidx[0][-1]]))"
   ]
  },
  {
   "cell_type": "code",
   "execution_count": null,
   "id": "0f3c088d-dff6-443d-8487-69d4f98efa21",
   "metadata": {},
   "outputs": [],
   "source": []
  },
  {
   "cell_type": "code",
   "execution_count": null,
   "id": "4c127f69-2502-4a42-946f-992353a93cf5",
   "metadata": {},
   "outputs": [],
   "source": []
  }
 ],
 "metadata": {
  "kernelspec": {
   "display_name": "Python 3 (ipykernel)",
   "language": "python",
   "name": "python3"
  },
  "language_info": {
   "codemirror_mode": {
    "name": "ipython",
    "version": 3
   },
   "file_extension": ".py",
   "mimetype": "text/x-python",
   "name": "python",
   "nbconvert_exporter": "python",
   "pygments_lexer": "ipython3",
   "version": "3.10.6"
  }
 },
 "nbformat": 4,
 "nbformat_minor": 5
}
