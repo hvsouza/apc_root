{
 "cells": [
  {
   "cell_type": "code",
   "execution_count": null,
   "id": "1de960fa-8568-4e70-8aa8-ce6b1b35452e",
   "metadata": {},
   "outputs": [],
   "source": [
    "%matplotlib inline\n",
    "import sympy as smp\n",
    "import numpy as np\n",
    "from scipy.optimize import least_squares"
   ]
  },
  {
   "cell_type": "markdown",
   "id": "ff6e7e5a-575f-4121-b8da-1b368e090ffa",
   "metadata": {},
   "source": [
    "# Functions to make easier\n",
    "Declaring a function to convert geoghaphic coordinates in polar coordinates\n",
    "Also vector of the sites created. This will be used to find the plane that contains two sites"
   ]
  },
  {
   "cell_type": "code",
   "execution_count": null,
   "id": "ba19d15e-34c8-439b-824c-063b3437ef8a",
   "metadata": {
    "tags": []
   },
   "outputs": [],
   "source": [
    "def convertCoordinates(latitude, longitude) :\n",
    "    phi = 90 - latitude\n",
    "    if longitude < 0:\n",
    "        longitude = 360 + longitude\n",
    "        \n",
    "    myphi = (phi * np.pi) / 180.\n",
    "    mytheta = (longitude * np.pi) / 180.\n",
    "    return mytheta, myphi\n",
    "def evalCoordinates(latitude, longitude):\n",
    "    theta, phi = convertCoordinates(latitude, longitude)\n",
    "    return np.cos(theta)*np.sin(phi), np.sin(theta)*smp.sin(phi), np.cos(phi)"
   ]
  },
  {
   "cell_type": "markdown",
   "id": "c9f8bd04-9894-477b-8337-c6c2000b9015",
   "metadata": {},
   "source": [
    "### Create x, y and z in spherical coordinates"
   ]
  },
  {
   "cell_type": "code",
   "execution_count": null,
   "id": "477547f4-195a-4728-943f-de8d3f11b96c",
   "metadata": {
    "tags": []
   },
   "outputs": [],
   "source": [
    "def createMatrix(lat_long):\n",
    "    latitude = lat_long[0]\n",
    "    longitude = lat_long[1]\n",
    "    theta, phi = convertCoordinates(latitude, longitude)\n",
    "    points = np.array([np.cos(theta)*np.sin(phi), np.sin(theta)*np.sin(phi), np.cos(phi)])\n",
    "    return points"
   ]
  },
  {
   "cell_type": "markdown",
   "id": "f6fd4fa4-c182-47df-8a20-4e2013ae163d",
   "metadata": {},
   "source": [
    "### getLat will return me latitude for a given longitude, constrained by the interception of a sphere with the normal plane\n",
    "The check if a point belongs to a point, I use:\\\n",
    "$\\hat{n} \\cdot (P_0 - \\left<x,y,z\\right>) = 0$\n",
    "\n",
    "Where $P_0$ is the origin of the sphare and x, y and z are constrained by the radious of the sphere\\\n",
    "(Note: if $P_0$ != $(0,0,0)$ the result still holds, but in the video the plane must cross the center of the Earth)\n",
    "\n",
    "The constrain in x, y and z is easy as I am using spherical coordinates. Therefore, the equation becomes:\\\n",
    "$n_x \\cos(\\theta)\\sin(\\phi) + n_y \\sin(\\theta)sin\\phi) + n_z\\cos(\\phi) = 0 $\\\n",
    "To be solved for $\\phi$ (latitude)"
   ]
  },
  {
   "cell_type": "code",
   "execution_count": null,
   "id": "0847cc65-08e8-44e6-809d-b4db5cf1b2f4",
   "metadata": {
    "tags": []
   },
   "outputs": [],
   "source": [
    "def funcLine(x, *par):\n",
    "    return [(np.sin(x[0])*par[0] + np.sin(x[0])*par[1] + np.cos(x[0])*par[2]) - par[3]] \n",
    "\n",
    "\n",
    "def getLat(longitude, normalplane, guess = 1.):\n",
    "    mytheta, _ = convertCoordinates(0, longitude)\n",
    "    #print(f'{np.degrees(mytheta)}')\n",
    "    longx = np.cos(mytheta)\n",
    "    longy = np.sin(mytheta)\n",
    "    coord_tp = np.array([longx,longy,1,1])\n",
    "    \n",
    "    par = normalplane*coord_tp\n",
    "    #print(par)\n",
    "    par = tuple( x for x in par)\n",
    "    \n",
    "    root = least_squares(funcLine,[guess],args = par, bounds=(0,np.pi))\n",
    "    #print(f'root = {root.x*180/np.pi}')\n",
    "    #converting back to latitude\n",
    "    theta = root.x[0]*180/np.pi\n",
    "    latitude = 90 - theta\n",
    "    return latitude"
   ]
  },
  {
   "cell_type": "markdown",
   "id": "520bab71-a742-448f-ae2e-accdaa7c1214",
   "metadata": {},
   "source": [
    "Testing `getLat`\\\n",
    "You can draw this lines if needed. Using a normal vector as $(0,0,1)$ is easy to check.\n",
    "\n",
    "Using $(1,0,1)$ is a bit more challenging, but quite a nice test\\\n",
    "for $\\text{longitude} = 0$, $x, y, z = (0.707, 0, -0.707)$\\\n",
    "for $\\text{longitude} = 90$, $x, y, z = (0,1,0)$\\\n",
    "for $\\text{longitude} = 180$, $x, y, z = (-0.707, 0, +0.707)$"
   ]
  },
  {
   "cell_type": "code",
   "execution_count": null,
   "id": "e72968ab-0381-4b33-975e-d65c3b750c52",
   "metadata": {},
   "outputs": [],
   "source": [
    "par = np.array([1,0,1])\n",
    "lon_test = 0\n",
    "par = par/np.linalg.norm(par);\n",
    "par = np.append(par,0)\n",
    "lat = getLat(lon_test,par)\n",
    "x, y, z = evalCoordinates(lat, lon_test)\n",
    "print(f'{x} {y} {z}')\n",
    "#funcLine([2],*testk)\n",
    "#np.cos(np.radians(lat/360**3))\n",
    "\n"
   ]
  },
  {
   "cell_type": "markdown",
   "id": "63884054-fe00-4f00-b18d-2bea030c54d2",
   "metadata": {},
   "source": [
    "# Testing if logic works"
   ]
  },
  {
   "cell_type": "code",
   "execution_count": null,
   "id": "fe2d3ce2-0ba3-4083-a4d2-0995c8ad0d4f",
   "metadata": {},
   "outputs": [],
   "source": [
    "site1 = createMatrix([-45, 0])\n",
    "site2 = createMatrix([0,90])\n",
    "normalplane = np.cross(site1,site2)\n",
    "if (normalplane[2] < 0 ):\n",
    "    normalplane *= -1\n",
    "\n",
    "normalplane = np.append(normalplane,0)\n",
    "theta = getLat(0,normalplane)\n",
    "#print(np.degrees(theta.x[0]))\n",
    "\n",
    "\n",
    "#np.cross(site1, site2)"
   ]
  },
  {
   "cell_type": "code",
   "execution_count": null,
   "id": "b4836c48-82af-499b-a5ad-73ad83f0f685",
   "metadata": {},
   "outputs": [],
   "source": [
    "sites_name = [\"khufus\",\n",
    "              \"cusco\",\n",
    "              \"dogon\",\n",
    "              \"richat structure\",\n",
    "               \"Nazca\",\n",
    "               \"Siwa\",\n",
    "               \"Persepolis\",\n",
    "               \"Mohenjo-daro\",\n",
    "               \"Tassili n'Ajjer\",\n",
    "               \"Khajuraho\",\n",
    "               \"Angkor Wat\",\n",
    "               \"Sukhothao\",\n",
    "               \"Opposit to Khufus\"];\n",
    "\n",
    "khufus = [29.979364870160097, 31.134276335617763]\n",
    "cusco = [-13.509744575389755, -71.98127257903684]\n",
    "dogon = [14.51978905371621, -3.3367679384686415] \n",
    "richat = [22.130445452634085, -11.393038584831498]\n",
    "nazca = [-14.737860753819678, -75.12968373669136]\n",
    "siwa = [29.342956345199564, 25.484203846977397]\n",
    "persepolis = [29.935717515280537, 52.89158439335407]\n",
    "mohenjo = [27.324465048035997, 68.13578838967938]\n",
    "tassili = [25.814098244920874, 8.1338085807607]\n",
    "khajuraho = [24.83240295582695, 79.92026864072902]\n",
    "angkor = [13.412709291959462, 103.86293017924665]\n",
    "sukhothai = [17.01301606188515, 99.80904408904023]\n",
    "\n",
    "khufusneg = [-khufus[0], -(179.9 - khufus[1])]\n",
    "\n",
    "sites_location = [khufus, cusco, dogon, richat, nazca, siwa, persepolis, mohenjo, tassili, khajuraho, angkor, sukhothai, khufusneg]"
   ]
  },
  {
   "cell_type": "code",
   "execution_count": null,
   "id": "d2c27272-61df-44a1-af80-b16bff82cec1",
   "metadata": {},
   "outputs": [],
   "source": [
    "site1 = createMatrix(khufus)\n",
    "site2 = createMatrix(cusco)\n",
    "\n",
    "normalplane = np.cross(site1,site2)\n",
    "normalplane = np.append(normalplane,0)\n",
    "if (normalplane[2] < 0 ):\n",
    "    normalplane *= -1\n",
    "\n",
    "linelon = [i for i in np.arange(0, 360+2.5, 2.5)]\n",
    "latitude = getLat(cusco[1], normalplane)\n",
    "print(latitude) # should return the same latitude as site[0]\n",
    "x, y, z = evalCoordinates(latitude,cusco[1])\n",
    "#print(f'{x, y, z}')\n",
    "\n",
    "#np.dot(normalplane,[x,y,z,1]) # checks if gives zero \n",
    "\n",
    "linelat = np.zeros(len(linelon))\n",
    "for i, lon in enumerate(linelon):\n",
    "    linelat[i] = getLat(lon, normalplane)"
   ]
  },
  {
   "cell_type": "code",
   "execution_count": null,
   "id": "915948d8-4a9b-438b-94d7-6b19df83ebdf",
   "metadata": {},
   "outputs": [],
   "source": [
    "startkhufus1 = createMatrix(khufus)\n",
    "startkhufus2 = createMatrix(khufusneg)\n",
    "\n",
    "normalkhufus = np.cross(startkhufus1,startkhufus2)\n",
    "normalkhufus = np.append(normalkhufus,0)\n",
    "if (normalkhufus[2] < 0 ):\n",
    "    normalkhufus *= -1\n",
    "    \n",
    "linelatkhufus = np.zeros(len(linelon))\n",
    "for i, lon in enumerate(linelon):\n",
    "    linelatkhufus[i] = getLat(lon, normalkhufus)"
   ]
  },
  {
   "cell_type": "code",
   "execution_count": null,
   "id": "122dd257-ed84-47b1-8a3e-106c6611c3c4",
   "metadata": {},
   "outputs": [],
   "source": [
    "ecliptic1 = [23.5]\n",
    "ecliptic2 = [-23.5]\n",
    "lineeclp1 = np.full(len(linelon), ecliptic1[0])\n",
    "lineeclp2 = np.full(len(linelon), ecliptic2[0])\n",
    "    \n"
   ]
  },
  {
   "cell_type": "code",
   "execution_count": null,
   "id": "0351677a-b1f9-410d-b735-43bc4f879297",
   "metadata": {},
   "outputs": [],
   "source": [
    "import plotly.graph_objects as go"
   ]
  },
  {
   "cell_type": "code",
   "execution_count": null,
   "id": "7aaab358-7a9b-429e-90df-a567ab6bd098",
   "metadata": {},
   "outputs": [],
   "source": [
    "scl = ['rgb(255,0,0)', 'rgb(0,0,255)', 'rgb(0,255,0)']\n",
    "n_colors = len(scl)\n",
    "fig = go.Figure()"
   ]
  },
  {
   "cell_type": "code",
   "execution_count": null,
   "id": "297f7b97-a689-4338-bd53-ccc37d61a5fc",
   "metadata": {},
   "outputs": [],
   "source": [
    "fig.add_trace(go.Scattergeo( lon = linelon, lat = linelat, mode = 'lines', line = dict(width = 2, color = scl[0] )))\n",
    "fig.add_trace(go.Scattergeo( lon = linelon, lat = linelatkhufus, mode = 'lines', line = dict(width = 2, color = scl[2] )))\n",
    "#fig.add_trace(go.Scattergeo( lon = linelon, lat = lineeclp1, mode = 'lines', line = dict(width = 2, color = scl[1] )))\n",
    "#fig.add_trace(go.Scattergeo( lon = linelon, lat = lineeclp2, mode = 'lines', line = dict(width = 2, color = scl[1] )))\n",
    "for locname, loc in zip(sites_name, sites_location):\n",
    "    fig.add_trace(go.Scattergeo(\n",
    "        lon = [loc[1]],\n",
    "        lat = [loc[0]],\n",
    "        text = locname,\n",
    "        mode = 'markers',\n",
    "        marker_color = scl[1],\n",
    "        marker=dict(size=10)))\n",
    "fig.update_layout(\n",
    "    title_text = 'Contour lines over globe<br>(Click and drag to rotate)',\n",
    "    showlegend = False,\n",
    "    autosize = False,\n",
    "    width = 800,\n",
    "    height = 800,\n",
    "    geo = dict(\n",
    "        showland = True,\n",
    "        showcountries = True,\n",
    "        showocean = True,\n",
    "        countrywidth = 0.5,\n",
    "        landcolor = 'rgb(230, 145, 56)',\n",
    "        lakecolor = 'rgb(0, 255, 255)',\n",
    "        oceancolor = 'rgb(0, 255, 255)',\n",
    "        projection = dict(\n",
    "            type = 'orthographic',\n",
    "            rotation = dict(\n",
    "                #lon = khufus[1],\n",
    "                #lat = khufus[0],\n",
    "                lon = 0,\n",
    "                lat = 0,\n",
    "                roll = 0\n",
    "            )\n",
    "        ),\n",
    "        lonaxis = dict(\n",
    "            showgrid = True,\n",
    "            gridcolor = 'rgb(102, 102, 102)',\n",
    "            gridwidth = 0.5\n",
    "        ),\n",
    "        lataxis = dict(\n",
    "            showgrid = True,\n",
    "            gridcolor = 'rgb(102, 102, 102)',\n",
    "            gridwidth = 0.5\n",
    "        )\n",
    "    )\n",
    ")\n",
    "\n",
    "fig.update_layout(\n",
    "    margin=dict(l=0, r=0, t=0, b=0),\n",
    ")\n",
    "fig.show()\n"
   ]
  },
  {
   "cell_type": "code",
   "execution_count": null,
   "id": "6a99f630-c1e3-402a-a1e0-3592cd349a52",
   "metadata": {},
   "outputs": [],
   "source": []
  },
  {
   "cell_type": "code",
   "execution_count": null,
   "id": "f8a73ad8-ca00-4216-9683-2b68aee95e0b",
   "metadata": {},
   "outputs": [],
   "source": []
  },
  {
   "cell_type": "code",
   "execution_count": null,
   "id": "fe58873c-8343-4d70-85ee-655b159f9f92",
   "metadata": {},
   "outputs": [],
   "source": []
  }
 ],
 "metadata": {
  "kernelspec": {
   "display_name": "Python 3 (ipykernel)",
   "language": "python",
   "name": "python3"
  },
  "language_info": {
   "codemirror_mode": {
    "name": "ipython",
    "version": 3
   },
   "file_extension": ".py",
   "mimetype": "text/x-python",
   "name": "python",
   "nbconvert_exporter": "python",
   "pygments_lexer": "ipython3",
   "version": "3.10.6"
  }
 },
 "nbformat": 4,
 "nbformat_minor": 5
}
