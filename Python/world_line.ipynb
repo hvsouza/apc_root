{
 "cells": [
  {
   "cell_type": "code",
   "execution_count": 1,
   "id": "1de960fa-8568-4e70-8aa8-ce6b1b35452e",
   "metadata": {},
   "outputs": [],
   "source": [
    "%matplotlib inline\n",
    "import sympy as smp\n",
    "import numpy as np\n",
    "from scipy.optimize import least_squares"
   ]
  },
  {
   "cell_type": "markdown",
   "id": "ff6e7e5a-575f-4121-b8da-1b368e090ffa",
   "metadata": {},
   "source": [
    "# Functions to make easier\n",
    "Declaring a function to convert geoghaphic coordinates in polar coordinates\n",
    "Also vector of the sites created. This will be used to find the plane that contains two sites"
   ]
  },
  {
   "cell_type": "code",
   "execution_count": 2,
   "id": "ba19d15e-34c8-439b-824c-063b3437ef8a",
   "metadata": {
    "tags": []
   },
   "outputs": [],
   "source": [
    "def convertCoordinates(latitude, longitude) :\n",
    "    phi = 90 - latitude\n",
    "    if longitude < 0:\n",
    "        longitude = 360 + longitude\n",
    "        \n",
    "    myphi = (phi * np.pi) / 180.\n",
    "    mytheta = (longitude * np.pi) / 180.\n",
    "    return mytheta, myphi\n",
    "def evalCoordinates(latitude, longitude):\n",
    "    theta, phi = convertCoordinates(latitude, longitude)\n",
    "    return np.cos(theta)*np.sin(phi), np.sin(theta)*smp.sin(phi), np.cos(phi)"
   ]
  },
  {
   "cell_type": "markdown",
   "id": "c9f8bd04-9894-477b-8337-c6c2000b9015",
   "metadata": {},
   "source": [
    "### Create x, y and z in spherical coordinates"
   ]
  },
  {
   "cell_type": "code",
   "execution_count": 3,
   "id": "477547f4-195a-4728-943f-de8d3f11b96c",
   "metadata": {
    "tags": []
   },
   "outputs": [],
   "source": [
    "def createMatrix(lat_long):\n",
    "    latitude = lat_long[0]\n",
    "    longitude = lat_long[1]\n",
    "    theta, phi = convertCoordinates(latitude, longitude)\n",
    "    points = np.array([np.cos(theta)*np.sin(phi), np.sin(theta)*np.sin(phi), np.cos(phi)])\n",
    "    return points"
   ]
  },
  {
   "cell_type": "markdown",
   "id": "f6fd4fa4-c182-47df-8a20-4e2013ae163d",
   "metadata": {},
   "source": [
    "### getLat will return me latitude for a given longitude, constrained by the interception of a sphere with the normal plane\n",
    "The check if a point belongs to a point, I use:\\\n",
    "$\\hat{n} \\cdot (P_0 - \\left<x,y,z\\right>) = 0$\n",
    "\n",
    "Where $P_0$ is the origin of the sphare and x, y and z are constrained by the radious of the sphere\\\n",
    "(Note: if $P_0$ != $(0,0,0)$ the result still holds, but in the video the plane must cross the center of the Earth)\n",
    "\n",
    "The constrain in x, y and z is easy as I am using spherical coordinates. Therefore, the equation becomes:\\\n",
    "$n_x \\cos(\\theta)\\sin(\\phi) + n_y \\sin(\\theta)sin\\phi) + n_z\\cos(\\phi) = 0 $\\\n",
    "To be solved for $\\phi$ (latitude)"
   ]
  },
  {
   "cell_type": "code",
   "execution_count": 4,
   "id": "0847cc65-08e8-44e6-809d-b4db5cf1b2f4",
   "metadata": {
    "tags": []
   },
   "outputs": [],
   "source": [
    "def funcLine(x, *par):\n",
    "    return [(np.sin(x[0])*par[0] + np.sin(x[0])*par[1] + np.cos(x[0])*par[2]) - par[3]] \n",
    "\n",
    "\n",
    "def getLat(longitude, normalplane, guess = 1.):\n",
    "    mytheta, _ = convertCoordinates(0, longitude)\n",
    "    #print(f'{np.degrees(mytheta)}')\n",
    "    longx = np.cos(mytheta)\n",
    "    longy = np.sin(mytheta)\n",
    "    coord_tp = np.array([longx,longy,1,1])\n",
    "    \n",
    "    par = normalplane*coord_tp\n",
    "    #print(par)\n",
    "    par = tuple( x for x in par)\n",
    "    \n",
    "    root = least_squares(funcLine,[guess],args = par, bounds=(0,np.pi))\n",
    "    #print(f'root = {root.x*180/np.pi}')\n",
    "    #converting back to latitude\n",
    "    theta = root.x[0]*180/np.pi\n",
    "    latitude = 90 - theta\n",
    "    return latitude"
   ]
  },
  {
   "cell_type": "markdown",
   "id": "520bab71-a742-448f-ae2e-accdaa7c1214",
   "metadata": {},
   "source": [
    "Testing `getLat`\\\n",
    "You can draw this lines if needed. Using a normal vector as $(0,0,1)$ is easy to check.\n",
    "\n",
    "Using $(1,0,1)$ is a bit more challenging, but quite a nice test\\\n",
    "for $\\text{longitude} = 0$, $x, y, z = (0.707, 0, -0.707)$\\\n",
    "for $\\text{longitude} = 90$, $x, y, z = (0,1,0)$\\\n",
    "for $\\text{longitude} = 180$, $x, y, z = (-0.707, 0, +0.707)$"
   ]
  },
  {
   "cell_type": "code",
   "execution_count": 5,
   "id": "e72968ab-0381-4b33-975e-d65c3b750c52",
   "metadata": {},
   "outputs": [
    {
     "name": "stdout",
     "output_type": "stream",
     "text": [
      "0.7071067829894483 0 -0.7071067793836467\n"
     ]
    }
   ],
   "source": [
    "par = np.array([1,0,1])\n",
    "lon_test = 0\n",
    "par = par/np.linalg.norm(par);\n",
    "par = np.append(par,0)\n",
    "lat = getLat(lon_test,par)\n",
    "x, y, z = evalCoordinates(lat, lon_test)\n",
    "print(f'{x} {y} {z}')\n",
    "#funcLine([2],*testk)\n",
    "#np.cos(np.radians(lat/360**3))\n",
    "\n"
   ]
  },
  {
   "cell_type": "markdown",
   "id": "63884054-fe00-4f00-b18d-2bea030c54d2",
   "metadata": {},
   "source": [
    "# Testing if logic works"
   ]
  },
  {
   "cell_type": "code",
   "execution_count": 6,
   "id": "fe2d3ce2-0ba3-4083-a4d2-0995c8ad0d4f",
   "metadata": {},
   "outputs": [],
   "source": [
    "site1 = createMatrix([-45, 0])\n",
    "site2 = createMatrix([0,90])\n",
    "normalplane = np.cross(site1,site2)\n",
    "if (normalplane[2] < 0 ):\n",
    "    normalplane *= -1\n",
    "\n",
    "normalplane = np.append(normalplane,0)\n",
    "theta = getLat(0,normalplane)\n",
    "#print(np.degrees(theta.x[0]))\n",
    "\n",
    "\n",
    "#np.cross(site1, site2)"
   ]
  },
  {
   "cell_type": "code",
   "execution_count": 41,
   "id": "b4836c48-82af-499b-a5ad-73ad83f0f685",
   "metadata": {},
   "outputs": [],
   "source": [
    "sites_name = [\"khufus\",\n",
    "              \"cusco\",\n",
    "              \"dogon\",\n",
    "              \"richat structure\",\n",
    "               \"Nazca\",\n",
    "               \"Siwa\",\n",
    "               \"Persepolis\",\n",
    "               \"Mohenjo-daro\",\n",
    "               \"Tassili n'Ajjer\",\n",
    "               \"Khajuraho\",\n",
    "               \"Angkor Wat\",\n",
    "               \"Sukhothao\",\n",
    "               \"Opposit to Khufus\"];\n",
    "\n",
    "khufus = [29.979364870160097, 31.134276335617763]\n",
    "cusco = [-13.509744575389755, -71.98127257903684]\n",
    "dogon = [14.51978905371621, -3.3367679384686415] \n",
    "richat = [22.130445452634085, -11.393038584831498]\n",
    "nazca = [-14.737860753819678, -75.12968373669136]\n",
    "siwa = [29.342956345199564, 25.484203846977397]\n",
    "persepolis = [29.935717515280537, 52.89158439335407]\n",
    "mohenjo = [27.324465048035997, 68.13578838967938]\n",
    "tassili = [25.814098244920874, 8.1338085807607]\n",
    "khajuraho = [24.83240295582695, 79.92026864072902]\n",
    "angkor = [13.412709291959462, 103.86293017924665]\n",
    "sukhothai = [17.01301606188515, 99.80904408904023]\n",
    "\n",
    "khufusneg = [-khufus[0], -(179.9 - khufus[1])]\n",
    "\n",
    "sites_location = [khufus, cusco, dogon, richat, nazca, siwa, persepolis, mohenjo, tassili, khajuraho, angkor, sukhothai, khufusneg]"
   ]
  },
  {
   "cell_type": "code",
   "execution_count": 42,
   "id": "d2c27272-61df-44a1-af80-b16bff82cec1",
   "metadata": {},
   "outputs": [
    {
     "name": "stdout",
     "output_type": "stream",
     "text": [
      "-13.509744525095883\n"
     ]
    }
   ],
   "source": [
    "site1 = createMatrix(khufus)\n",
    "site2 = createMatrix(cusco)\n",
    "\n",
    "normalplane = np.cross(site1,site2)\n",
    "normalplane = np.append(normalplane,0)\n",
    "if (normalplane[2] < 0 ):\n",
    "    normalplane *= -1\n",
    "\n",
    "linelon = [i for i in np.arange(0, 360+2.5, 2.5)]\n",
    "latitude = getLat(cusco[1], normalplane)\n",
    "print(latitude) # should return the same latitude as site[0]\n",
    "x, y, z = evalCoordinates(latitude,cusco[1])\n",
    "#print(f'{x, y, z}')\n",
    "\n",
    "#np.dot(normalplane,[x,y,z,1]) # checks if gives zero \n",
    "\n",
    "linelat = np.zeros(len(linelon))\n",
    "for i, lon in enumerate(linelon):\n",
    "    linelat[i] = getLat(lon, normalplane)"
   ]
  },
  {
   "cell_type": "code",
   "execution_count": 43,
   "id": "915948d8-4a9b-438b-94d7-6b19df83ebdf",
   "metadata": {},
   "outputs": [],
   "source": [
    "startkhufus1 = createMatrix(khufus)\n",
    "startkhufus2 = createMatrix(khufusneg)\n",
    "\n",
    "normalkhufus = np.cross(startkhufus1,startkhufus2)\n",
    "normalkhufus = np.append(normalkhufus,0)\n",
    "if (normalkhufus[2] < 0 ):\n",
    "    normalkhufus *= -1\n",
    "    \n",
    "linelatkhufus = np.zeros(len(linelon))\n",
    "for i, lon in enumerate(linelon):\n",
    "    linelatkhufus[i] = getLat(lon, normalkhufus)"
   ]
  },
  {
   "cell_type": "code",
   "execution_count": 44,
   "id": "122dd257-ed84-47b1-8a3e-106c6611c3c4",
   "metadata": {},
   "outputs": [],
   "source": [
    "ecliptic1 = [23.5]\n",
    "ecliptic2 = [-23.5]\n",
    "lineeclp1 = np.full(len(linelon), ecliptic1[0])\n",
    "lineeclp2 = np.full(len(linelon), ecliptic2[0])\n",
    "    \n"
   ]
  },
  {
   "cell_type": "code",
   "execution_count": 45,
   "id": "0351677a-b1f9-410d-b735-43bc4f879297",
   "metadata": {},
   "outputs": [],
   "source": [
    "import plotly.graph_objects as go"
   ]
  },
  {
   "cell_type": "code",
   "execution_count": 46,
   "id": "7aaab358-7a9b-429e-90df-a567ab6bd098",
   "metadata": {},
   "outputs": [],
   "source": [
    "scl = ['rgb(255,0,0)', 'rgb(0,0,255)', 'rgb(0,255,0)']\n",
    "n_colors = len(scl)\n",
    "fig = go.Figure()"
   ]
  },
  {
   "cell_type": "code",
   "execution_count": 47,
   "id": "297f7b97-a689-4338-bd53-ccc37d61a5fc",
   "metadata": {},
   "outputs": [
    {
     "data": {
      "application/vnd.plotly.v1+json": {
       "config": {
        "plotlyServerURL": "https://plot.ly"
       },
       "data": [
        {
         "lat": [
          23.543680404570466,
          24.34709063136772,
          25.099974981867177,
          25.802307812527545,
          26.454164092247495,
          27.05569819724831,
          27.607124377717803,
          28.10869897863251,
          28.56070444038972,
          28.963435061311337,
          29.317184472992004,
          29.62223475879037,
          29.878847134126183,
          30.087254103069327,
          30.247653007519467,
          30.360200891812518,
          30.425010615814486,
          30.442148162474368,
          30.411631100688858,
          30.333428180476872,
          30.207460054334227,
          30.033601135672598,
          29.81168262197422,
          29.54149672614227,
          29.222802173927228,
          28.85533103755568,
          28.43879698495786,
          27.97290502936226,
          27.457362864232046,
          26.89189386244483,
          26.276251804602218,
          25.610237377871655,
          24.893716452445446,
          24.126640095302804,
          23.309066220433166,
          22.44118269899836,
          21.523331662288513,
          20.55603407850316,
          19.540016981062266,
          18.47623636522978,
          17.365902706431385,
          16.210502992562695,
          15.01182027189327,
          13.77194941287783,
          12.493308050222012,
          11.178641724637046,
          9.83102232184271,
          8.453839085640737,
          7.050781720791832,
          5.625815407497342,
          4.183147906342711,
          2.7271893189585086,
          1.2625054577471815,
          -0.20623386338425576,
          -1.6743100074316288,
          -3.1370123423020715,
          -4.589694797450548,
          -6.027830244929888,
          -7.447060933924348,
          -8.84324344477514,
          -10.212486946299279,
          -11.55118391055619,
          -12.856032829521354,
          -14.124052859292206,
          -15.352590661677723,
          -16.53932000208765,
          -17.682234883972413,
          -18.779637148358745,
          -19.83011954717388,
          -20.832545314195116,
          -21.78602522356522,
          -22.689893049705475,
          -23.54368024169773,
          -24.34709050761718,
          -25.099974881874033,
          -25.8023077282579,
          -26.454164019499686,
          -27.055698133706798,
          -27.60712432197255,
          -28.108698929631174,
          -28.560704397233863,
          -28.963435023191337,
          -29.317184433102938,
          -29.622234693857692,
          -29.878847038484764,
          -30.08725397390343,
          -30.24765284599529,
          -30.360200703595652,
          -30.425010410567182,
          -30.442147952501372,
          -30.411630899053037,
          -30.333427998943833,
          -30.207459901519755,
          -30.033601015983947,
          -29.81168253539606,
          -29.541496668895178,
          -29.22280213893856,
          -28.855330998101138,
          -28.438796940250654,
          -27.972904978565737,
          -27.45736280641384,
          -26.89189379648377,
          -26.276251728890088,
          -25.610237289733135,
          -24.893716346835745,
          -24.126639962568106,
          -23.309066042196775,
          -22.44118244110078,
          -21.523331263396443,
          -20.556033981001846,
          -19.540016887168576,
          -18.476236277043583,
          -17.365902625735984,
          -16.210502920700833,
          -15.01182020967532,
          -13.771949360550622,
          -12.493308007508574,
          -11.178641690818495,
          -9.831022295888417,
          -8.453839066336087,
          -7.050781706863418,
          -5.625815397707171,
          -4.183147899557838,
          -2.7271893141674894,
          -1.26250545405874,
          0.2062338667874144,
          1.6743100113439482,
          3.137012347557018,
          4.589694804971316,
          6.027830255759795,
          7.447060949233972,
          8.843243465813899,
          10.212486974344529,
          11.551183946776405,
          12.856032874878707,
          14.124052914391626,
          15.352590726644621,
          16.539320076539312,
          17.682234966923616,
          18.779637238354653,
          19.83011964229837,
          20.832545412310182,
          21.786025574464304,
          22.689893280485606,
          23.543680404570466
         ],
         "line": {
          "color": "rgb(255,0,0)",
          "width": 2
         },
         "lon": [
          0,
          2.5,
          5,
          7.5,
          10,
          12.5,
          15,
          17.5,
          20,
          22.5,
          25,
          27.5,
          30,
          32.5,
          35,
          37.5,
          40,
          42.5,
          45,
          47.5,
          50,
          52.5,
          55,
          57.5,
          60,
          62.5,
          65,
          67.5,
          70,
          72.5,
          75,
          77.5,
          80,
          82.5,
          85,
          87.5,
          90,
          92.5,
          95,
          97.5,
          100,
          102.5,
          105,
          107.5,
          110,
          112.5,
          115,
          117.5,
          120,
          122.5,
          125,
          127.5,
          130,
          132.5,
          135,
          137.5,
          140,
          142.5,
          145,
          147.5,
          150,
          152.5,
          155,
          157.5,
          160,
          162.5,
          165,
          167.5,
          170,
          172.5,
          175,
          177.5,
          180,
          182.5,
          185,
          187.5,
          190,
          192.5,
          195,
          197.5,
          200,
          202.5,
          205,
          207.5,
          210,
          212.5,
          215,
          217.5,
          220,
          222.5,
          225,
          227.5,
          230,
          232.5,
          235,
          237.5,
          240,
          242.5,
          245,
          247.5,
          250,
          252.5,
          255,
          257.5,
          260,
          262.5,
          265,
          267.5,
          270,
          272.5,
          275,
          277.5,
          280,
          282.5,
          285,
          287.5,
          290,
          292.5,
          295,
          297.5,
          300,
          302.5,
          305,
          307.5,
          310,
          312.5,
          315,
          317.5,
          320,
          322.5,
          325,
          327.5,
          330,
          332.5,
          335,
          337.5,
          340,
          342.5,
          345,
          347.5,
          350,
          352.5,
          355,
          357.5,
          360
         ],
         "mode": "lines",
         "type": "scattergeo"
        },
        {
         "lat": [
          26.267838911374817,
          26.84338604889046,
          27.369688699929412,
          27.846954669845573,
          28.27541958530101,
          28.77821881879199,
          29.09123896392026,
          29.360010000181553,
          29.584235696031676,
          29.76367044252178,
          29.898118607443443,
          29.98743422784191,
          30.031520623498295,
          30.03033011464924,
          29.9838640083275,
          29.892172525601993,
          29.755354948143754,
          29.57355984454972,
          29.34698542930022,
          29.075880012057688,
          28.76054244760258,
          28.254102849874904,
          27.82307817278263,
          27.343239596404587,
          26.814352587092948,
          26.236211228063958,
          25.608654240129013,
          24.93158276941935,
          24.204979873679164,
          23.428931590645618,
          22.603649270171232,
          21.729493022735397,
          20.80699563227951,
          19.836886620606293,
          18.820115593569597,
          17.757874250000526,
          16.651616137643202,
          15.503073285456821,
          14.314268684706946,
          13.08752381907837,
          11.825460429937777,
          10.530995733035141,
          9.207330672345108,
          7.857931178413395,
          6.486502196822684,
          5.096955258558751,
          3.6933702370570813,
          2.279952255420355,
          0.8609853630879485,
          -0.5592158544604899,
          -2.1979137151980552,
          -3.6304220232441367,
          -5.051515230662758,
          -6.456868356091718,
          -7.84233388023155,
          -9.20398193570216,
          -10.538133911545884,
          -11.841388773540174,
          -13.11064185576788,
          -14.343096150357908,
          -15.536266428326414,
          -16.687976859163214,
          -17.796352839302855,
          -18.859807989812026,
          -19.877027243265132,
          -20.846946974008716,
          -21.76873306143088,
          -22.64175770544152,
          -23.46557571913553,
          -24.23990086078645,
          -24.964582733989047,
          -25.63958461329767,
          -26.264962466764246,
          -26.840845387326226,
          -27.367417563465864,
          -27.84490183313153,
          -28.27354487095529,
          -28.653603972432606,
          -28.985335414235053,
          -29.268932706391283,
          -29.50435031799495,
          -29.692152012924865,
          -29.83252361648067,
          -29.925609609114247,
          -29.971508434347783,
          -29.970269412432742,
          -29.921891201845114,
          -29.826321853678664,
          -29.683460406953344,
          -29.49316008486062,
          -29.25523303816118,
          -28.969093001415402,
          -28.63482678562231,
          -28.25221963012804,
          -27.821014940938923,
          -27.34095567349874,
          -26.81179607199212,
          -26.23331494025267,
          -25.605330564197075,
          -24.92771723296589,
          -24.200423354594818,
          -23.42349109373599,
          -22.59707742898209,
          -21.72147637653299,
          -20.797142134603604,
          -19.82471276070224,
          -18.805033874151107,
          -17.739181788389345,
          -16.62848536569689,
          -15.474545745508053,
          -14.279253083044608,
          -13.044799322499998,
          -11.773686077419754,
          -10.46872669953153,
          -9.133041780649549,
          -7.770047482826669,
          -6.383436350973355,
          -4.97715059340112,
          -3.555348114668533,
          -2.122362003990574,
          -0.4845820947815298,
          0.9356615868431959,
          2.3544441347901,
          3.7674513109469956,
          5.170402061522225,
          6.559096699550494,
          7.929463181239129,
          9.277599901244145,
          10.599813742342775,
          11.892652135259112,
          13.152928614372144,
          14.377741301830511,
          15.564484195004837,
          16.710851566857855,
          17.814835955721463,
          18.874720362654557,
          19.889065428933137,
          20.856692703855686,
          21.776664715682585,
          22.648262884360364,
          23.47096410119434,
          24.24441666937821,
          24.96841640180861,
          25.642883231508918,
          26.26783891137481
         ],
         "line": {
          "color": "rgb(0,255,0)",
          "width": 2
         },
         "lon": [
          0,
          2.5,
          5,
          7.5,
          10,
          12.5,
          15,
          17.5,
          20,
          22.5,
          25,
          27.5,
          30,
          32.5,
          35,
          37.5,
          40,
          42.5,
          45,
          47.5,
          50,
          52.5,
          55,
          57.5,
          60,
          62.5,
          65,
          67.5,
          70,
          72.5,
          75,
          77.5,
          80,
          82.5,
          85,
          87.5,
          90,
          92.5,
          95,
          97.5,
          100,
          102.5,
          105,
          107.5,
          110,
          112.5,
          115,
          117.5,
          120,
          122.5,
          125,
          127.5,
          130,
          132.5,
          135,
          137.5,
          140,
          142.5,
          145,
          147.5,
          150,
          152.5,
          155,
          157.5,
          160,
          162.5,
          165,
          167.5,
          170,
          172.5,
          175,
          177.5,
          180,
          182.5,
          185,
          187.5,
          190,
          192.5,
          195,
          197.5,
          200,
          202.5,
          205,
          207.5,
          210,
          212.5,
          215,
          217.5,
          220,
          222.5,
          225,
          227.5,
          230,
          232.5,
          235,
          237.5,
          240,
          242.5,
          245,
          247.5,
          250,
          252.5,
          255,
          257.5,
          260,
          262.5,
          265,
          267.5,
          270,
          272.5,
          275,
          277.5,
          280,
          282.5,
          285,
          287.5,
          290,
          292.5,
          295,
          297.5,
          300,
          302.5,
          305,
          307.5,
          310,
          312.5,
          315,
          317.5,
          320,
          322.5,
          325,
          327.5,
          330,
          332.5,
          335,
          337.5,
          340,
          342.5,
          345,
          347.5,
          350,
          352.5,
          355,
          357.5,
          360
         ],
         "mode": "lines",
         "type": "scattergeo"
        },
        {
         "lat": [
          29.979364870160097
         ],
         "lon": [
          31.134276335617763
         ],
         "marker": {
          "color": "rgb(0,0,255)",
          "size": 10
         },
         "mode": "markers",
         "text": "khufus",
         "type": "scattergeo"
        },
        {
         "lat": [
          -13.509744575389755
         ],
         "lon": [
          -71.98127257903684
         ],
         "marker": {
          "color": "rgb(0,0,255)",
          "size": 10
         },
         "mode": "markers",
         "text": "cusco",
         "type": "scattergeo"
        },
        {
         "lat": [
          14.51978905371621
         ],
         "lon": [
          -3.3367679384686415
         ],
         "marker": {
          "color": "rgb(0,0,255)",
          "size": 10
         },
         "mode": "markers",
         "text": "dogon",
         "type": "scattergeo"
        },
        {
         "lat": [
          22.130445452634085
         ],
         "lon": [
          -11.393038584831498
         ],
         "marker": {
          "color": "rgb(0,0,255)",
          "size": 10
         },
         "mode": "markers",
         "text": "richat structure",
         "type": "scattergeo"
        },
        {
         "lat": [
          -14.737860753819678
         ],
         "lon": [
          -75.12968373669136
         ],
         "marker": {
          "color": "rgb(0,0,255)",
          "size": 10
         },
         "mode": "markers",
         "text": "Nazca",
         "type": "scattergeo"
        },
        {
         "lat": [
          29.342956345199564
         ],
         "lon": [
          25.484203846977397
         ],
         "marker": {
          "color": "rgb(0,0,255)",
          "size": 10
         },
         "mode": "markers",
         "text": "Siwa",
         "type": "scattergeo"
        },
        {
         "lat": [
          29.935717515280537
         ],
         "lon": [
          52.89158439335407
         ],
         "marker": {
          "color": "rgb(0,0,255)",
          "size": 10
         },
         "mode": "markers",
         "text": "Persepolis",
         "type": "scattergeo"
        },
        {
         "lat": [
          27.324465048035997
         ],
         "lon": [
          68.13578838967938
         ],
         "marker": {
          "color": "rgb(0,0,255)",
          "size": 10
         },
         "mode": "markers",
         "text": "Mohenjo-daro",
         "type": "scattergeo"
        },
        {
         "lat": [
          25.814098244920874
         ],
         "lon": [
          8.1338085807607
         ],
         "marker": {
          "color": "rgb(0,0,255)",
          "size": 10
         },
         "mode": "markers",
         "text": "Tassili n'Ajjer",
         "type": "scattergeo"
        },
        {
         "lat": [
          24.83240295582695
         ],
         "lon": [
          79.92026864072902
         ],
         "marker": {
          "color": "rgb(0,0,255)",
          "size": 10
         },
         "mode": "markers",
         "text": "Khajuraho",
         "type": "scattergeo"
        },
        {
         "lat": [
          13.412709291959462
         ],
         "lon": [
          103.86293017924665
         ],
         "marker": {
          "color": "rgb(0,0,255)",
          "size": 10
         },
         "mode": "markers",
         "text": "Angkor Wat",
         "type": "scattergeo"
        },
        {
         "lat": [
          17.01301606188515
         ],
         "lon": [
          99.80904408904023
         ],
         "marker": {
          "color": "rgb(0,0,255)",
          "size": 10
         },
         "mode": "markers",
         "text": "Sukhothao",
         "type": "scattergeo"
        },
        {
         "lat": [
          -29.979364870160097
         ],
         "lon": [
          -148.76572366438225
         ],
         "marker": {
          "color": "rgb(0,0,255)",
          "size": 10
         },
         "mode": "markers",
         "text": "Opposit to Khufus",
         "type": "scattergeo"
        }
       ],
       "layout": {
        "autosize": false,
        "geo": {
         "countrywidth": 0.5,
         "lakecolor": "rgb(0, 255, 255)",
         "landcolor": "rgb(230, 145, 56)",
         "lataxis": {
          "gridcolor": "rgb(102, 102, 102)",
          "gridwidth": 0.5,
          "showgrid": true
         },
         "lonaxis": {
          "gridcolor": "rgb(102, 102, 102)",
          "gridwidth": 0.5,
          "showgrid": true
         },
         "oceancolor": "rgb(0, 255, 255)",
         "projection": {
          "rotation": {
           "lat": 25.668451306074903,
           "lon": 90.02383349939771,
           "roll": 0
          },
          "scale": 3.4822022531844636,
          "type": "orthographic"
         },
         "showcountries": true,
         "showland": true,
         "showocean": true
        },
        "height": 800,
        "margin": {
         "b": 0,
         "l": 0,
         "r": 0,
         "t": 0
        },
        "showlegend": false,
        "template": {
         "data": {
          "bar": [
           {
            "error_x": {
             "color": "#2a3f5f"
            },
            "error_y": {
             "color": "#2a3f5f"
            },
            "marker": {
             "line": {
              "color": "#E5ECF6",
              "width": 0.5
             },
             "pattern": {
              "fillmode": "overlay",
              "size": 10,
              "solidity": 0.2
             }
            },
            "type": "bar"
           }
          ],
          "barpolar": [
           {
            "marker": {
             "line": {
              "color": "#E5ECF6",
              "width": 0.5
             },
             "pattern": {
              "fillmode": "overlay",
              "size": 10,
              "solidity": 0.2
             }
            },
            "type": "barpolar"
           }
          ],
          "carpet": [
           {
            "aaxis": {
             "endlinecolor": "#2a3f5f",
             "gridcolor": "white",
             "linecolor": "white",
             "minorgridcolor": "white",
             "startlinecolor": "#2a3f5f"
            },
            "baxis": {
             "endlinecolor": "#2a3f5f",
             "gridcolor": "white",
             "linecolor": "white",
             "minorgridcolor": "white",
             "startlinecolor": "#2a3f5f"
            },
            "type": "carpet"
           }
          ],
          "choropleth": [
           {
            "colorbar": {
             "outlinewidth": 0,
             "ticks": ""
            },
            "type": "choropleth"
           }
          ],
          "contour": [
           {
            "colorbar": {
             "outlinewidth": 0,
             "ticks": ""
            },
            "colorscale": [
             [
              0,
              "#0d0887"
             ],
             [
              0.1111111111111111,
              "#46039f"
             ],
             [
              0.2222222222222222,
              "#7201a8"
             ],
             [
              0.3333333333333333,
              "#9c179e"
             ],
             [
              0.4444444444444444,
              "#bd3786"
             ],
             [
              0.5555555555555556,
              "#d8576b"
             ],
             [
              0.6666666666666666,
              "#ed7953"
             ],
             [
              0.7777777777777778,
              "#fb9f3a"
             ],
             [
              0.8888888888888888,
              "#fdca26"
             ],
             [
              1,
              "#f0f921"
             ]
            ],
            "type": "contour"
           }
          ],
          "contourcarpet": [
           {
            "colorbar": {
             "outlinewidth": 0,
             "ticks": ""
            },
            "type": "contourcarpet"
           }
          ],
          "heatmap": [
           {
            "colorbar": {
             "outlinewidth": 0,
             "ticks": ""
            },
            "colorscale": [
             [
              0,
              "#0d0887"
             ],
             [
              0.1111111111111111,
              "#46039f"
             ],
             [
              0.2222222222222222,
              "#7201a8"
             ],
             [
              0.3333333333333333,
              "#9c179e"
             ],
             [
              0.4444444444444444,
              "#bd3786"
             ],
             [
              0.5555555555555556,
              "#d8576b"
             ],
             [
              0.6666666666666666,
              "#ed7953"
             ],
             [
              0.7777777777777778,
              "#fb9f3a"
             ],
             [
              0.8888888888888888,
              "#fdca26"
             ],
             [
              1,
              "#f0f921"
             ]
            ],
            "type": "heatmap"
           }
          ],
          "heatmapgl": [
           {
            "colorbar": {
             "outlinewidth": 0,
             "ticks": ""
            },
            "colorscale": [
             [
              0,
              "#0d0887"
             ],
             [
              0.1111111111111111,
              "#46039f"
             ],
             [
              0.2222222222222222,
              "#7201a8"
             ],
             [
              0.3333333333333333,
              "#9c179e"
             ],
             [
              0.4444444444444444,
              "#bd3786"
             ],
             [
              0.5555555555555556,
              "#d8576b"
             ],
             [
              0.6666666666666666,
              "#ed7953"
             ],
             [
              0.7777777777777778,
              "#fb9f3a"
             ],
             [
              0.8888888888888888,
              "#fdca26"
             ],
             [
              1,
              "#f0f921"
             ]
            ],
            "type": "heatmapgl"
           }
          ],
          "histogram": [
           {
            "marker": {
             "pattern": {
              "fillmode": "overlay",
              "size": 10,
              "solidity": 0.2
             }
            },
            "type": "histogram"
           }
          ],
          "histogram2d": [
           {
            "colorbar": {
             "outlinewidth": 0,
             "ticks": ""
            },
            "colorscale": [
             [
              0,
              "#0d0887"
             ],
             [
              0.1111111111111111,
              "#46039f"
             ],
             [
              0.2222222222222222,
              "#7201a8"
             ],
             [
              0.3333333333333333,
              "#9c179e"
             ],
             [
              0.4444444444444444,
              "#bd3786"
             ],
             [
              0.5555555555555556,
              "#d8576b"
             ],
             [
              0.6666666666666666,
              "#ed7953"
             ],
             [
              0.7777777777777778,
              "#fb9f3a"
             ],
             [
              0.8888888888888888,
              "#fdca26"
             ],
             [
              1,
              "#f0f921"
             ]
            ],
            "type": "histogram2d"
           }
          ],
          "histogram2dcontour": [
           {
            "colorbar": {
             "outlinewidth": 0,
             "ticks": ""
            },
            "colorscale": [
             [
              0,
              "#0d0887"
             ],
             [
              0.1111111111111111,
              "#46039f"
             ],
             [
              0.2222222222222222,
              "#7201a8"
             ],
             [
              0.3333333333333333,
              "#9c179e"
             ],
             [
              0.4444444444444444,
              "#bd3786"
             ],
             [
              0.5555555555555556,
              "#d8576b"
             ],
             [
              0.6666666666666666,
              "#ed7953"
             ],
             [
              0.7777777777777778,
              "#fb9f3a"
             ],
             [
              0.8888888888888888,
              "#fdca26"
             ],
             [
              1,
              "#f0f921"
             ]
            ],
            "type": "histogram2dcontour"
           }
          ],
          "mesh3d": [
           {
            "colorbar": {
             "outlinewidth": 0,
             "ticks": ""
            },
            "type": "mesh3d"
           }
          ],
          "parcoords": [
           {
            "line": {
             "colorbar": {
              "outlinewidth": 0,
              "ticks": ""
             }
            },
            "type": "parcoords"
           }
          ],
          "pie": [
           {
            "automargin": true,
            "type": "pie"
           }
          ],
          "scatter": [
           {
            "fillpattern": {
             "fillmode": "overlay",
             "size": 10,
             "solidity": 0.2
            },
            "type": "scatter"
           }
          ],
          "scatter3d": [
           {
            "line": {
             "colorbar": {
              "outlinewidth": 0,
              "ticks": ""
             }
            },
            "marker": {
             "colorbar": {
              "outlinewidth": 0,
              "ticks": ""
             }
            },
            "type": "scatter3d"
           }
          ],
          "scattercarpet": [
           {
            "marker": {
             "colorbar": {
              "outlinewidth": 0,
              "ticks": ""
             }
            },
            "type": "scattercarpet"
           }
          ],
          "scattergeo": [
           {
            "marker": {
             "colorbar": {
              "outlinewidth": 0,
              "ticks": ""
             }
            },
            "type": "scattergeo"
           }
          ],
          "scattergl": [
           {
            "marker": {
             "colorbar": {
              "outlinewidth": 0,
              "ticks": ""
             }
            },
            "type": "scattergl"
           }
          ],
          "scattermapbox": [
           {
            "marker": {
             "colorbar": {
              "outlinewidth": 0,
              "ticks": ""
             }
            },
            "type": "scattermapbox"
           }
          ],
          "scatterpolar": [
           {
            "marker": {
             "colorbar": {
              "outlinewidth": 0,
              "ticks": ""
             }
            },
            "type": "scatterpolar"
           }
          ],
          "scatterpolargl": [
           {
            "marker": {
             "colorbar": {
              "outlinewidth": 0,
              "ticks": ""
             }
            },
            "type": "scatterpolargl"
           }
          ],
          "scatterternary": [
           {
            "marker": {
             "colorbar": {
              "outlinewidth": 0,
              "ticks": ""
             }
            },
            "type": "scatterternary"
           }
          ],
          "surface": [
           {
            "colorbar": {
             "outlinewidth": 0,
             "ticks": ""
            },
            "colorscale": [
             [
              0,
              "#0d0887"
             ],
             [
              0.1111111111111111,
              "#46039f"
             ],
             [
              0.2222222222222222,
              "#7201a8"
             ],
             [
              0.3333333333333333,
              "#9c179e"
             ],
             [
              0.4444444444444444,
              "#bd3786"
             ],
             [
              0.5555555555555556,
              "#d8576b"
             ],
             [
              0.6666666666666666,
              "#ed7953"
             ],
             [
              0.7777777777777778,
              "#fb9f3a"
             ],
             [
              0.8888888888888888,
              "#fdca26"
             ],
             [
              1,
              "#f0f921"
             ]
            ],
            "type": "surface"
           }
          ],
          "table": [
           {
            "cells": {
             "fill": {
              "color": "#EBF0F8"
             },
             "line": {
              "color": "white"
             }
            },
            "header": {
             "fill": {
              "color": "#C8D4E3"
             },
             "line": {
              "color": "white"
             }
            },
            "type": "table"
           }
          ]
         },
         "layout": {
          "annotationdefaults": {
           "arrowcolor": "#2a3f5f",
           "arrowhead": 0,
           "arrowwidth": 1
          },
          "autotypenumbers": "strict",
          "coloraxis": {
           "colorbar": {
            "outlinewidth": 0,
            "ticks": ""
           }
          },
          "colorscale": {
           "diverging": [
            [
             0,
             "#8e0152"
            ],
            [
             0.1,
             "#c51b7d"
            ],
            [
             0.2,
             "#de77ae"
            ],
            [
             0.3,
             "#f1b6da"
            ],
            [
             0.4,
             "#fde0ef"
            ],
            [
             0.5,
             "#f7f7f7"
            ],
            [
             0.6,
             "#e6f5d0"
            ],
            [
             0.7,
             "#b8e186"
            ],
            [
             0.8,
             "#7fbc41"
            ],
            [
             0.9,
             "#4d9221"
            ],
            [
             1,
             "#276419"
            ]
           ],
           "sequential": [
            [
             0,
             "#0d0887"
            ],
            [
             0.1111111111111111,
             "#46039f"
            ],
            [
             0.2222222222222222,
             "#7201a8"
            ],
            [
             0.3333333333333333,
             "#9c179e"
            ],
            [
             0.4444444444444444,
             "#bd3786"
            ],
            [
             0.5555555555555556,
             "#d8576b"
            ],
            [
             0.6666666666666666,
             "#ed7953"
            ],
            [
             0.7777777777777778,
             "#fb9f3a"
            ],
            [
             0.8888888888888888,
             "#fdca26"
            ],
            [
             1,
             "#f0f921"
            ]
           ],
           "sequentialminus": [
            [
             0,
             "#0d0887"
            ],
            [
             0.1111111111111111,
             "#46039f"
            ],
            [
             0.2222222222222222,
             "#7201a8"
            ],
            [
             0.3333333333333333,
             "#9c179e"
            ],
            [
             0.4444444444444444,
             "#bd3786"
            ],
            [
             0.5555555555555556,
             "#d8576b"
            ],
            [
             0.6666666666666666,
             "#ed7953"
            ],
            [
             0.7777777777777778,
             "#fb9f3a"
            ],
            [
             0.8888888888888888,
             "#fdca26"
            ],
            [
             1,
             "#f0f921"
            ]
           ]
          },
          "colorway": [
           "#636efa",
           "#EF553B",
           "#00cc96",
           "#ab63fa",
           "#FFA15A",
           "#19d3f3",
           "#FF6692",
           "#B6E880",
           "#FF97FF",
           "#FECB52"
          ],
          "font": {
           "color": "#2a3f5f"
          },
          "geo": {
           "bgcolor": "white",
           "lakecolor": "white",
           "landcolor": "#E5ECF6",
           "showlakes": true,
           "showland": true,
           "subunitcolor": "white"
          },
          "hoverlabel": {
           "align": "left"
          },
          "hovermode": "closest",
          "mapbox": {
           "style": "light"
          },
          "paper_bgcolor": "white",
          "plot_bgcolor": "#E5ECF6",
          "polar": {
           "angularaxis": {
            "gridcolor": "white",
            "linecolor": "white",
            "ticks": ""
           },
           "bgcolor": "#E5ECF6",
           "radialaxis": {
            "gridcolor": "white",
            "linecolor": "white",
            "ticks": ""
           }
          },
          "scene": {
           "xaxis": {
            "backgroundcolor": "#E5ECF6",
            "gridcolor": "white",
            "gridwidth": 2,
            "linecolor": "white",
            "showbackground": true,
            "ticks": "",
            "zerolinecolor": "white"
           },
           "yaxis": {
            "backgroundcolor": "#E5ECF6",
            "gridcolor": "white",
            "gridwidth": 2,
            "linecolor": "white",
            "showbackground": true,
            "ticks": "",
            "zerolinecolor": "white"
           },
           "zaxis": {
            "backgroundcolor": "#E5ECF6",
            "gridcolor": "white",
            "gridwidth": 2,
            "linecolor": "white",
            "showbackground": true,
            "ticks": "",
            "zerolinecolor": "white"
           }
          },
          "shapedefaults": {
           "line": {
            "color": "#2a3f5f"
           }
          },
          "ternary": {
           "aaxis": {
            "gridcolor": "white",
            "linecolor": "white",
            "ticks": ""
           },
           "baxis": {
            "gridcolor": "white",
            "linecolor": "white",
            "ticks": ""
           },
           "bgcolor": "#E5ECF6",
           "caxis": {
            "gridcolor": "white",
            "linecolor": "white",
            "ticks": ""
           }
          },
          "title": {
           "x": 0.05
          },
          "xaxis": {
           "automargin": true,
           "gridcolor": "white",
           "linecolor": "white",
           "ticks": "",
           "title": {
            "standoff": 15
           },
           "zerolinecolor": "white",
           "zerolinewidth": 2
          },
          "yaxis": {
           "automargin": true,
           "gridcolor": "white",
           "linecolor": "white",
           "ticks": "",
           "title": {
            "standoff": 15
           },
           "zerolinecolor": "white",
           "zerolinewidth": 2
          }
         }
        },
        "title": {
         "text": "Contour lines over globe<br>(Click and drag to rotate)"
        },
        "width": 800
       }
      },
      "image/png": "[encoded data removed]",
      "text/html": [
       "<div>                            <div id=\"5f70ed09-f088-4471-9b51-3b9473b4483c\" class=\"plotly-graph-div\" style=\"height:800px; width:800px;\"></div>            <script type=\"text/javascript\">                require([\"plotly\"], function(Plotly) {                    window.PLOTLYENV=window.PLOTLYENV || {};                                    if (document.getElementById(\"5f70ed09-f088-4471-9b51-3b9473b4483c\")) {                    Plotly.newPlot(                        \"5f70ed09-f088-4471-9b51-3b9473b4483c\",                        [{\"lat\":[23.543680404570466,24.34709063136772,25.099974981867177,25.802307812527545,26.454164092247495,27.05569819724831,27.607124377717803,28.10869897863251,28.56070444038972,28.963435061311337,29.317184472992004,29.62223475879037,29.878847134126183,30.087254103069327,30.247653007519467,30.360200891812518,30.425010615814486,30.442148162474368,30.411631100688858,30.333428180476872,30.207460054334227,30.033601135672598,29.81168262197422,29.54149672614227,29.222802173927228,28.85533103755568,28.43879698495786,27.97290502936226,27.457362864232046,26.89189386244483,26.276251804602218,25.610237377871655,24.893716452445446,24.126640095302804,23.309066220433166,22.44118269899836,21.523331662288513,20.55603407850316,19.540016981062266,18.47623636522978,17.365902706431385,16.210502992562695,15.01182027189327,13.77194941287783,12.493308050222012,11.178641724637046,9.83102232184271,8.453839085640737,7.050781720791832,5.625815407497342,4.183147906342711,2.7271893189585086,1.2625054577471815,-0.20623386338425576,-1.6743100074316288,-3.1370123423020715,-4.589694797450548,-6.027830244929888,-7.447060933924348,-8.84324344477514,-10.212486946299279,-11.55118391055619,-12.856032829521354,-14.124052859292206,-15.352590661677723,-16.53932000208765,-17.682234883972413,-18.779637148358745,-19.83011954717388,-20.832545314195116,-21.78602522356522,-22.689893049705475,-23.54368024169773,-24.34709050761718,-25.099974881874033,-25.8023077282579,-26.454164019499686,-27.055698133706798,-27.60712432197255,-28.108698929631174,-28.560704397233863,-28.963435023191337,-29.317184433102938,-29.622234693857692,-29.878847038484764,-30.08725397390343,-30.24765284599529,-30.360200703595652,-30.425010410567182,-30.442147952501372,-30.411630899053037,-30.333427998943833,-30.207459901519755,-30.033601015983947,-29.81168253539606,-29.541496668895178,-29.22280213893856,-28.855330998101138,-28.438796940250654,-27.972904978565737,-27.45736280641384,-26.89189379648377,-26.276251728890088,-25.610237289733135,-24.893716346835745,-24.126639962568106,-23.309066042196775,-22.44118244110078,-21.523331263396443,-20.556033981001846,-19.540016887168576,-18.476236277043583,-17.365902625735984,-16.210502920700833,-15.01182020967532,-13.771949360550622,-12.493308007508574,-11.178641690818495,-9.831022295888417,-8.453839066336087,-7.050781706863418,-5.625815397707171,-4.183147899557838,-2.7271893141674894,-1.26250545405874,0.2062338667874144,1.6743100113439482,3.137012347557018,4.589694804971316,6.027830255759795,7.447060949233972,8.843243465813899,10.212486974344529,11.551183946776405,12.856032874878707,14.124052914391626,15.352590726644621,16.539320076539312,17.682234966923616,18.779637238354653,19.83011964229837,20.832545412310182,21.786025574464304,22.689893280485606,23.543680404570466],\"line\":{\"color\":\"rgb(255,0,0)\",\"width\":2},\"lon\":[0.0,2.5,5.0,7.5,10.0,12.5,15.0,17.5,20.0,22.5,25.0,27.5,30.0,32.5,35.0,37.5,40.0,42.5,45.0,47.5,50.0,52.5,55.0,57.5,60.0,62.5,65.0,67.5,70.0,72.5,75.0,77.5,80.0,82.5,85.0,87.5,90.0,92.5,95.0,97.5,100.0,102.5,105.0,107.5,110.0,112.5,115.0,117.5,120.0,122.5,125.0,127.5,130.0,132.5,135.0,137.5,140.0,142.5,145.0,147.5,150.0,152.5,155.0,157.5,160.0,162.5,165.0,167.5,170.0,172.5,175.0,177.5,180.0,182.5,185.0,187.5,190.0,192.5,195.0,197.5,200.0,202.5,205.0,207.5,210.0,212.5,215.0,217.5,220.0,222.5,225.0,227.5,230.0,232.5,235.0,237.5,240.0,242.5,245.0,247.5,250.0,252.5,255.0,257.5,260.0,262.5,265.0,267.5,270.0,272.5,275.0,277.5,280.0,282.5,285.0,287.5,290.0,292.5,295.0,297.5,300.0,302.5,305.0,307.5,310.0,312.5,315.0,317.5,320.0,322.5,325.0,327.5,330.0,332.5,335.0,337.5,340.0,342.5,345.0,347.5,350.0,352.5,355.0,357.5,360.0],\"mode\":\"lines\",\"type\":\"scattergeo\"},{\"lat\":[26.267838911374817,26.84338604889046,27.369688699929412,27.846954669845573,28.27541958530101,28.77821881879199,29.09123896392026,29.360010000181553,29.584235696031676,29.76367044252178,29.898118607443443,29.98743422784191,30.031520623498295,30.03033011464924,29.9838640083275,29.892172525601993,29.755354948143754,29.57355984454972,29.34698542930022,29.075880012057688,28.76054244760258,28.254102849874904,27.82307817278263,27.343239596404587,26.814352587092948,26.236211228063958,25.608654240129013,24.93158276941935,24.204979873679164,23.428931590645618,22.603649270171232,21.729493022735397,20.80699563227951,19.836886620606293,18.820115593569597,17.757874250000526,16.651616137643202,15.503073285456821,14.314268684706946,13.08752381907837,11.825460429937777,10.530995733035141,9.207330672345108,7.857931178413395,6.486502196822684,5.096955258558751,3.6933702370570813,2.279952255420355,0.8609853630879485,-0.5592158544604899,-2.1979137151980552,-3.6304220232441367,-5.051515230662758,-6.456868356091718,-7.84233388023155,-9.20398193570216,-10.538133911545884,-11.841388773540174,-13.11064185576788,-14.343096150357908,-15.536266428326414,-16.687976859163214,-17.796352839302855,-18.859807989812026,-19.877027243265132,-20.846946974008716,-21.76873306143088,-22.64175770544152,-23.46557571913553,-24.23990086078645,-24.964582733989047,-25.63958461329767,-26.264962466764246,-26.840845387326226,-27.367417563465864,-27.84490183313153,-28.27354487095529,-28.653603972432606,-28.985335414235053,-29.268932706391283,-29.50435031799495,-29.692152012924865,-29.83252361648067,-29.925609609114247,-29.971508434347783,-29.970269412432742,-29.921891201845114,-29.826321853678664,-29.683460406953344,-29.49316008486062,-29.25523303816118,-28.969093001415402,-28.63482678562231,-28.25221963012804,-27.821014940938923,-27.34095567349874,-26.81179607199212,-26.23331494025267,-25.605330564197075,-24.92771723296589,-24.200423354594818,-23.42349109373599,-22.59707742898209,-21.72147637653299,-20.797142134603604,-19.82471276070224,-18.805033874151107,-17.739181788389345,-16.62848536569689,-15.474545745508053,-14.279253083044608,-13.044799322499998,-11.773686077419754,-10.46872669953153,-9.133041780649549,-7.770047482826669,-6.383436350973355,-4.97715059340112,-3.555348114668533,-2.122362003990574,-0.4845820947815298,0.9356615868431959,2.3544441347901,3.7674513109469956,5.170402061522225,6.559096699550494,7.929463181239129,9.277599901244145,10.599813742342775,11.892652135259112,13.152928614372144,14.377741301830511,15.564484195004837,16.710851566857855,17.814835955721463,18.874720362654557,19.889065428933137,20.856692703855686,21.776664715682585,22.648262884360364,23.47096410119434,24.24441666937821,24.96841640180861,25.642883231508918,26.26783891137481],\"line\":{\"color\":\"rgb(0,255,0)\",\"width\":2},\"lon\":[0.0,2.5,5.0,7.5,10.0,12.5,15.0,17.5,20.0,22.5,25.0,27.5,30.0,32.5,35.0,37.5,40.0,42.5,45.0,47.5,50.0,52.5,55.0,57.5,60.0,62.5,65.0,67.5,70.0,72.5,75.0,77.5,80.0,82.5,85.0,87.5,90.0,92.5,95.0,97.5,100.0,102.5,105.0,107.5,110.0,112.5,115.0,117.5,120.0,122.5,125.0,127.5,130.0,132.5,135.0,137.5,140.0,142.5,145.0,147.5,150.0,152.5,155.0,157.5,160.0,162.5,165.0,167.5,170.0,172.5,175.0,177.5,180.0,182.5,185.0,187.5,190.0,192.5,195.0,197.5,200.0,202.5,205.0,207.5,210.0,212.5,215.0,217.5,220.0,222.5,225.0,227.5,230.0,232.5,235.0,237.5,240.0,242.5,245.0,247.5,250.0,252.5,255.0,257.5,260.0,262.5,265.0,267.5,270.0,272.5,275.0,277.5,280.0,282.5,285.0,287.5,290.0,292.5,295.0,297.5,300.0,302.5,305.0,307.5,310.0,312.5,315.0,317.5,320.0,322.5,325.0,327.5,330.0,332.5,335.0,337.5,340.0,342.5,345.0,347.5,350.0,352.5,355.0,357.5,360.0],\"mode\":\"lines\",\"type\":\"scattergeo\"},{\"lat\":[29.979364870160097],\"lon\":[31.134276335617763],\"marker\":{\"color\":\"rgb(0,0,255)\",\"size\":10},\"mode\":\"markers\",\"text\":\"khufus\",\"type\":\"scattergeo\"},{\"lat\":[-13.509744575389755],\"lon\":[-71.98127257903684],\"marker\":{\"color\":\"rgb(0,0,255)\",\"size\":10},\"mode\":\"markers\",\"text\":\"cusco\",\"type\":\"scattergeo\"},{\"lat\":[14.51978905371621],\"lon\":[-3.3367679384686415],\"marker\":{\"color\":\"rgb(0,0,255)\",\"size\":10},\"mode\":\"markers\",\"text\":\"dogon\",\"type\":\"scattergeo\"},{\"lat\":[22.130445452634085],\"lon\":[-11.393038584831498],\"marker\":{\"color\":\"rgb(0,0,255)\",\"size\":10},\"mode\":\"markers\",\"text\":\"richat structure\",\"type\":\"scattergeo\"},{\"lat\":[-14.737860753819678],\"lon\":[-75.12968373669136],\"marker\":{\"color\":\"rgb(0,0,255)\",\"size\":10},\"mode\":\"markers\",\"text\":\"Nazca\",\"type\":\"scattergeo\"},{\"lat\":[29.342956345199564],\"lon\":[25.484203846977397],\"marker\":{\"color\":\"rgb(0,0,255)\",\"size\":10},\"mode\":\"markers\",\"text\":\"Siwa\",\"type\":\"scattergeo\"},{\"lat\":[29.935717515280537],\"lon\":[52.89158439335407],\"marker\":{\"color\":\"rgb(0,0,255)\",\"size\":10},\"mode\":\"markers\",\"text\":\"Persepolis\",\"type\":\"scattergeo\"},{\"lat\":[27.324465048035997],\"lon\":[68.13578838967938],\"marker\":{\"color\":\"rgb(0,0,255)\",\"size\":10},\"mode\":\"markers\",\"text\":\"Mohenjo-daro\",\"type\":\"scattergeo\"},{\"lat\":[25.814098244920874],\"lon\":[8.1338085807607],\"marker\":{\"color\":\"rgb(0,0,255)\",\"size\":10},\"mode\":\"markers\",\"text\":\"Tassili n'Ajjer\",\"type\":\"scattergeo\"},{\"lat\":[24.83240295582695],\"lon\":[79.92026864072902],\"marker\":{\"color\":\"rgb(0,0,255)\",\"size\":10},\"mode\":\"markers\",\"text\":\"Khajuraho\",\"type\":\"scattergeo\"},{\"lat\":[13.412709291959462],\"lon\":[103.86293017924665],\"marker\":{\"color\":\"rgb(0,0,255)\",\"size\":10},\"mode\":\"markers\",\"text\":\"Angkor Wat\",\"type\":\"scattergeo\"},{\"lat\":[17.01301606188515],\"lon\":[99.80904408904023],\"marker\":{\"color\":\"rgb(0,0,255)\",\"size\":10},\"mode\":\"markers\",\"text\":\"Sukhothao\",\"type\":\"scattergeo\"},{\"lat\":[-29.979364870160097],\"lon\":[-148.76572366438225],\"marker\":{\"color\":\"rgb(0,0,255)\",\"size\":10},\"mode\":\"markers\",\"text\":\"Opposit to Khufus\",\"type\":\"scattergeo\"}],                        {\"template\":{\"data\":{\"histogram2dcontour\":[{\"type\":\"histogram2dcontour\",\"colorbar\":{\"outlinewidth\":0,\"ticks\":\"\"},\"colorscale\":[[0.0,\"#0d0887\"],[0.1111111111111111,\"#46039f\"],[0.2222222222222222,\"#7201a8\"],[0.3333333333333333,\"#9c179e\"],[0.4444444444444444,\"#bd3786\"],[0.5555555555555556,\"#d8576b\"],[0.6666666666666666,\"#ed7953\"],[0.7777777777777778,\"#fb9f3a\"],[0.8888888888888888,\"#fdca26\"],[1.0,\"#f0f921\"]]}],\"choropleth\":[{\"type\":\"choropleth\",\"colorbar\":{\"outlinewidth\":0,\"ticks\":\"\"}}],\"histogram2d\":[{\"type\":\"histogram2d\",\"colorbar\":{\"outlinewidth\":0,\"ticks\":\"\"},\"colorscale\":[[0.0,\"#0d0887\"],[0.1111111111111111,\"#46039f\"],[0.2222222222222222,\"#7201a8\"],[0.3333333333333333,\"#9c179e\"],[0.4444444444444444,\"#bd3786\"],[0.5555555555555556,\"#d8576b\"],[0.6666666666666666,\"#ed7953\"],[0.7777777777777778,\"#fb9f3a\"],[0.8888888888888888,\"#fdca26\"],[1.0,\"#f0f921\"]]}],\"heatmap\":[{\"type\":\"heatmap\",\"colorbar\":{\"outlinewidth\":0,\"ticks\":\"\"},\"colorscale\":[[0.0,\"#0d0887\"],[0.1111111111111111,\"#46039f\"],[0.2222222222222222,\"#7201a8\"],[0.3333333333333333,\"#9c179e\"],[0.4444444444444444,\"#bd3786\"],[0.5555555555555556,\"#d8576b\"],[0.6666666666666666,\"#ed7953\"],[0.7777777777777778,\"#fb9f3a\"],[0.8888888888888888,\"#fdca26\"],[1.0,\"#f0f921\"]]}],\"heatmapgl\":[{\"type\":\"heatmapgl\",\"colorbar\":{\"outlinewidth\":0,\"ticks\":\"\"},\"colorscale\":[[0.0,\"#0d0887\"],[0.1111111111111111,\"#46039f\"],[0.2222222222222222,\"#7201a8\"],[0.3333333333333333,\"#9c179e\"],[0.4444444444444444,\"#bd3786\"],[0.5555555555555556,\"#d8576b\"],[0.6666666666666666,\"#ed7953\"],[0.7777777777777778,\"#fb9f3a\"],[0.8888888888888888,\"#fdca26\"],[1.0,\"#f0f921\"]]}],\"contourcarpet\":[{\"type\":\"contourcarpet\",\"colorbar\":{\"outlinewidth\":0,\"ticks\":\"\"}}],\"contour\":[{\"type\":\"contour\",\"colorbar\":{\"outlinewidth\":0,\"ticks\":\"\"},\"colorscale\":[[0.0,\"#0d0887\"],[0.1111111111111111,\"#46039f\"],[0.2222222222222222,\"#7201a8\"],[0.3333333333333333,\"#9c179e\"],[0.4444444444444444,\"#bd3786\"],[0.5555555555555556,\"#d8576b\"],[0.6666666666666666,\"#ed7953\"],[0.7777777777777778,\"#fb9f3a\"],[0.8888888888888888,\"#fdca26\"],[1.0,\"#f0f921\"]]}],\"surface\":[{\"type\":\"surface\",\"colorbar\":{\"outlinewidth\":0,\"ticks\":\"\"},\"colorscale\":[[0.0,\"#0d0887\"],[0.1111111111111111,\"#46039f\"],[0.2222222222222222,\"#7201a8\"],[0.3333333333333333,\"#9c179e\"],[0.4444444444444444,\"#bd3786\"],[0.5555555555555556,\"#d8576b\"],[0.6666666666666666,\"#ed7953\"],[0.7777777777777778,\"#fb9f3a\"],[0.8888888888888888,\"#fdca26\"],[1.0,\"#f0f921\"]]}],\"mesh3d\":[{\"type\":\"mesh3d\",\"colorbar\":{\"outlinewidth\":0,\"ticks\":\"\"}}],\"scatter\":[{\"fillpattern\":{\"fillmode\":\"overlay\",\"size\":10,\"solidity\":0.2},\"type\":\"scatter\"}],\"parcoords\":[{\"type\":\"parcoords\",\"line\":{\"colorbar\":{\"outlinewidth\":0,\"ticks\":\"\"}}}],\"scatterpolargl\":[{\"type\":\"scatterpolargl\",\"marker\":{\"colorbar\":{\"outlinewidth\":0,\"ticks\":\"\"}}}],\"bar\":[{\"error_x\":{\"color\":\"#2a3f5f\"},\"error_y\":{\"color\":\"#2a3f5f\"},\"marker\":{\"line\":{\"color\":\"#E5ECF6\",\"width\":0.5},\"pattern\":{\"fillmode\":\"overlay\",\"size\":10,\"solidity\":0.2}},\"type\":\"bar\"}],\"scattergeo\":[{\"type\":\"scattergeo\",\"marker\":{\"colorbar\":{\"outlinewidth\":0,\"ticks\":\"\"}}}],\"scatterpolar\":[{\"type\":\"scatterpolar\",\"marker\":{\"colorbar\":{\"outlinewidth\":0,\"ticks\":\"\"}}}],\"histogram\":[{\"marker\":{\"pattern\":{\"fillmode\":\"overlay\",\"size\":10,\"solidity\":0.2}},\"type\":\"histogram\"}],\"scattergl\":[{\"type\":\"scattergl\",\"marker\":{\"colorbar\":{\"outlinewidth\":0,\"ticks\":\"\"}}}],\"scatter3d\":[{\"type\":\"scatter3d\",\"line\":{\"colorbar\":{\"outlinewidth\":0,\"ticks\":\"\"}},\"marker\":{\"colorbar\":{\"outlinewidth\":0,\"ticks\":\"\"}}}],\"scattermapbox\":[{\"type\":\"scattermapbox\",\"marker\":{\"colorbar\":{\"outlinewidth\":0,\"ticks\":\"\"}}}],\"scatterternary\":[{\"type\":\"scatterternary\",\"marker\":{\"colorbar\":{\"outlinewidth\":0,\"ticks\":\"\"}}}],\"scattercarpet\":[{\"type\":\"scattercarpet\",\"marker\":{\"colorbar\":{\"outlinewidth\":0,\"ticks\":\"\"}}}],\"carpet\":[{\"aaxis\":{\"endlinecolor\":\"#2a3f5f\",\"gridcolor\":\"white\",\"linecolor\":\"white\",\"minorgridcolor\":\"white\",\"startlinecolor\":\"#2a3f5f\"},\"baxis\":{\"endlinecolor\":\"#2a3f5f\",\"gridcolor\":\"white\",\"linecolor\":\"white\",\"minorgridcolor\":\"white\",\"startlinecolor\":\"#2a3f5f\"},\"type\":\"carpet\"}],\"table\":[{\"cells\":{\"fill\":{\"color\":\"#EBF0F8\"},\"line\":{\"color\":\"white\"}},\"header\":{\"fill\":{\"color\":\"#C8D4E3\"},\"line\":{\"color\":\"white\"}},\"type\":\"table\"}],\"barpolar\":[{\"marker\":{\"line\":{\"color\":\"#E5ECF6\",\"width\":0.5},\"pattern\":{\"fillmode\":\"overlay\",\"size\":10,\"solidity\":0.2}},\"type\":\"barpolar\"}],\"pie\":[{\"automargin\":true,\"type\":\"pie\"}]},\"layout\":{\"autotypenumbers\":\"strict\",\"colorway\":[\"#636efa\",\"#EF553B\",\"#00cc96\",\"#ab63fa\",\"#FFA15A\",\"#19d3f3\",\"#FF6692\",\"#B6E880\",\"#FF97FF\",\"#FECB52\"],\"font\":{\"color\":\"#2a3f5f\"},\"hovermode\":\"closest\",\"hoverlabel\":{\"align\":\"left\"},\"paper_bgcolor\":\"white\",\"plot_bgcolor\":\"#E5ECF6\",\"polar\":{\"bgcolor\":\"#E5ECF6\",\"angularaxis\":{\"gridcolor\":\"white\",\"linecolor\":\"white\",\"ticks\":\"\"},\"radialaxis\":{\"gridcolor\":\"white\",\"linecolor\":\"white\",\"ticks\":\"\"}},\"ternary\":{\"bgcolor\":\"#E5ECF6\",\"aaxis\":{\"gridcolor\":\"white\",\"linecolor\":\"white\",\"ticks\":\"\"},\"baxis\":{\"gridcolor\":\"white\",\"linecolor\":\"white\",\"ticks\":\"\"},\"caxis\":{\"gridcolor\":\"white\",\"linecolor\":\"white\",\"ticks\":\"\"}},\"coloraxis\":{\"colorbar\":{\"outlinewidth\":0,\"ticks\":\"\"}},\"colorscale\":{\"sequential\":[[0.0,\"#0d0887\"],[0.1111111111111111,\"#46039f\"],[0.2222222222222222,\"#7201a8\"],[0.3333333333333333,\"#9c179e\"],[0.4444444444444444,\"#bd3786\"],[0.5555555555555556,\"#d8576b\"],[0.6666666666666666,\"#ed7953\"],[0.7777777777777778,\"#fb9f3a\"],[0.8888888888888888,\"#fdca26\"],[1.0,\"#f0f921\"]],\"sequentialminus\":[[0.0,\"#0d0887\"],[0.1111111111111111,\"#46039f\"],[0.2222222222222222,\"#7201a8\"],[0.3333333333333333,\"#9c179e\"],[0.4444444444444444,\"#bd3786\"],[0.5555555555555556,\"#d8576b\"],[0.6666666666666666,\"#ed7953\"],[0.7777777777777778,\"#fb9f3a\"],[0.8888888888888888,\"#fdca26\"],[1.0,\"#f0f921\"]],\"diverging\":[[0,\"#8e0152\"],[0.1,\"#c51b7d\"],[0.2,\"#de77ae\"],[0.3,\"#f1b6da\"],[0.4,\"#fde0ef\"],[0.5,\"#f7f7f7\"],[0.6,\"#e6f5d0\"],[0.7,\"#b8e186\"],[0.8,\"#7fbc41\"],[0.9,\"#4d9221\"],[1,\"#276419\"]]},\"xaxis\":{\"gridcolor\":\"white\",\"linecolor\":\"white\",\"ticks\":\"\",\"title\":{\"standoff\":15},\"zerolinecolor\":\"white\",\"automargin\":true,\"zerolinewidth\":2},\"yaxis\":{\"gridcolor\":\"white\",\"linecolor\":\"white\",\"ticks\":\"\",\"title\":{\"standoff\":15},\"zerolinecolor\":\"white\",\"automargin\":true,\"zerolinewidth\":2},\"scene\":{\"xaxis\":{\"backgroundcolor\":\"#E5ECF6\",\"gridcolor\":\"white\",\"linecolor\":\"white\",\"showbackground\":true,\"ticks\":\"\",\"zerolinecolor\":\"white\",\"gridwidth\":2},\"yaxis\":{\"backgroundcolor\":\"#E5ECF6\",\"gridcolor\":\"white\",\"linecolor\":\"white\",\"showbackground\":true,\"ticks\":\"\",\"zerolinecolor\":\"white\",\"gridwidth\":2},\"zaxis\":{\"backgroundcolor\":\"#E5ECF6\",\"gridcolor\":\"white\",\"linecolor\":\"white\",\"showbackground\":true,\"ticks\":\"\",\"zerolinecolor\":\"white\",\"gridwidth\":2}},\"shapedefaults\":{\"line\":{\"color\":\"#2a3f5f\"}},\"annotationdefaults\":{\"arrowcolor\":\"#2a3f5f\",\"arrowhead\":0,\"arrowwidth\":1},\"geo\":{\"bgcolor\":\"white\",\"landcolor\":\"#E5ECF6\",\"subunitcolor\":\"white\",\"showland\":true,\"showlakes\":true,\"lakecolor\":\"white\"},\"title\":{\"x\":0.05},\"mapbox\":{\"style\":\"light\"}}},\"title\":{\"text\":\"Contour lines over globe<br>(Click and drag to rotate)\"},\"geo\":{\"projection\":{\"rotation\":{\"lon\":0,\"lat\":0,\"roll\":0},\"type\":\"orthographic\"},\"lonaxis\":{\"showgrid\":true,\"gridcolor\":\"rgb(102, 102, 102)\",\"gridwidth\":0.5},\"lataxis\":{\"showgrid\":true,\"gridcolor\":\"rgb(102, 102, 102)\",\"gridwidth\":0.5},\"showland\":true,\"showcountries\":true,\"showocean\":true,\"countrywidth\":0.5,\"landcolor\":\"rgb(230, 145, 56)\",\"lakecolor\":\"rgb(0, 255, 255)\",\"oceancolor\":\"rgb(0, 255, 255)\"},\"showlegend\":false,\"autosize\":false,\"width\":800,\"height\":800,\"margin\":{\"l\":0,\"r\":0,\"t\":0,\"b\":0}},                        {\"responsive\": true}                    ).then(function(){\n",
       "                            \n",
       "var gd = document.getElementById('5f70ed09-f088-4471-9b51-3b9473b4483c');\n",
       "var x = new MutationObserver(function (mutations, observer) {{\n",
       "        var display = window.getComputedStyle(gd).display;\n",
       "        if (!display || display === 'none') {{\n",
       "            console.log([gd, 'removed!']);\n",
       "            Plotly.purge(gd);\n",
       "            observer.disconnect();\n",
       "        }}\n",
       "}});\n",
       "\n",
       "// Listen for the removal of the full notebook cells\n",
       "var notebookContainer = gd.closest('#notebook-container');\n",
       "if (notebookContainer) {{\n",
       "    x.observe(notebookContainer, {childList: true});\n",
       "}}\n",
       "\n",
       "// Listen for the clearing of the current output cell\n",
       "var outputEl = gd.closest('.output');\n",
       "if (outputEl) {{\n",
       "    x.observe(outputEl, {childList: true});\n",
       "}}\n",
       "\n",
       "                        })                };                });            </script>        </div>"
      ]
     },
     "metadata": {},
     "output_type": "display_data"
    }
   ],
   "source": [
    "fig.add_trace(go.Scattergeo( lon = linelon, lat = linelat, mode = 'lines', line = dict(width = 2, color = scl[0] )))\n",
    "fig.add_trace(go.Scattergeo( lon = linelon, lat = linelatkhufus, mode = 'lines', line = dict(width = 2, color = scl[2] )))\n",
    "#fig.add_trace(go.Scattergeo( lon = linelon, lat = lineeclp1, mode = 'lines', line = dict(width = 2, color = scl[1] )))\n",
    "#fig.add_trace(go.Scattergeo( lon = linelon, lat = lineeclp2, mode = 'lines', line = dict(width = 2, color = scl[1] )))\n",
    "for locname, loc in zip(sites_name, sites_location):\n",
    "    fig.add_trace(go.Scattergeo(\n",
    "        lon = [loc[1]],\n",
    "        lat = [loc[0]],\n",
    "        text = locname,\n",
    "        mode = 'markers',\n",
    "        marker_color = scl[1],\n",
    "        marker=dict(size=10)))\n",
    "fig.update_layout(\n",
    "    title_text = 'Contour lines over globe<br>(Click and drag to rotate)',\n",
    "    showlegend = False,\n",
    "    autosize = False,\n",
    "    width = 800,\n",
    "    height = 800,\n",
    "    geo = dict(\n",
    "        showland = True,\n",
    "        showcountries = True,\n",
    "        showocean = True,\n",
    "        countrywidth = 0.5,\n",
    "        landcolor = 'rgb(230, 145, 56)',\n",
    "        lakecolor = 'rgb(0, 255, 255)',\n",
    "        oceancolor = 'rgb(0, 255, 255)',\n",
    "        projection = dict(\n",
    "            type = 'orthographic',\n",
    "            rotation = dict(\n",
    "                #lon = khufus[1],\n",
    "                #lat = khufus[0],\n",
    "                lon = 0,\n",
    "                lat = 0,\n",
    "                roll = 0\n",
    "            )\n",
    "        ),\n",
    "        lonaxis = dict(\n",
    "            showgrid = True,\n",
    "            gridcolor = 'rgb(102, 102, 102)',\n",
    "            gridwidth = 0.5\n",
    "        ),\n",
    "        lataxis = dict(\n",
    "            showgrid = True,\n",
    "            gridcolor = 'rgb(102, 102, 102)',\n",
    "            gridwidth = 0.5\n",
    "        )\n",
    "    )\n",
    ")\n",
    "\n",
    "fig.update_layout(\n",
    "    margin=dict(l=0, r=0, t=0, b=0),\n",
    ")\n",
    "fig.show()\n"
   ]
  },
  {
   "cell_type": "code",
   "execution_count": null,
   "id": "6a99f630-c1e3-402a-a1e0-3592cd349a52",
   "metadata": {},
   "outputs": [],
   "source": []
  },
  {
   "cell_type": "code",
   "execution_count": null,
   "id": "f8a73ad8-ca00-4216-9683-2b68aee95e0b",
   "metadata": {},
   "outputs": [],
   "source": []
  },
  {
   "cell_type": "code",
   "execution_count": null,
   "id": "fe58873c-8343-4d70-85ee-655b159f9f92",
   "metadata": {},
   "outputs": [],
   "source": []
  }
 ],
 "metadata": {
  "kernelspec": {
   "display_name": "Python 3 (ipykernel)",
   "language": "python",
   "name": "python3"
  },
  "language_info": {
   "codemirror_mode": {
    "name": "ipython",
    "version": 3
   },
   "file_extension": ".py",
   "mimetype": "text/x-python",
   "name": "python",
   "nbconvert_exporter": "python",
   "pygments_lexer": "ipython3",
   "version": "3.10.6"
  }
 },
 "nbformat": 4,
 "nbformat_minor": 5
}
