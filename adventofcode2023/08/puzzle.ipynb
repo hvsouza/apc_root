{
 "cells": [
  {
   "cell_type": "code",
   "execution_count": 1,
   "metadata": {},
   "outputs": [
    {
     "name": "stdout",
     "output_type": "stream",
     "text": [
      "LLRLLRRLRLRRRLRRLLRRRLRLRLRRLRRRLRRLRLRLLRLLLRRRLRRLRRRLRRRLRRRLRLRRLLRRLRRLRRLRRRLRLRRRLLRLRRLRRRLRLRRRLRRRLRLRRRLLRRRLRRRLRLRRLRLRRRLLRRLRRLRRLRRLRLRLRRRLLRRRLRRLRRRLRLRLRRRLLRLRRLLRLRRLRLRRRLRLRRLLRRRLLRRLRLRLLRLLRRLRRLLRRLRLRRLRLRLRRRLRRLRLLLLRRLRLRLRRRLLLRRRLRRLRRLRLLRLRRRLLLRRRLRRRLRRRR\n",
      "13771\n"
     ]
    }
   ],
   "source": [
    "f = open('input.dat','r')\n",
    "lines = f.readlines()\n",
    "lines = [line.strip() for line in lines if line.strip()]\n",
    "f.close()\n",
    "lorr = lines.pop(0)\n",
    "print(lorr)\n",
    "lorr = [0 if x == 'L' else 1 for x in lorr]\n",
    "current_ntw = \"AAA\"\n",
    "ilorr = 0\n",
    "steps=0\n",
    "iline = 0\n",
    "while True:\n",
    "    line = lines[iline]\n",
    "    iline = iline + 1 if iline<len(lines)-1 else 0\n",
    "    tmpcurrent_ntw = line.split('=')[0].strip()\n",
    "    if tmpcurrent_ntw == current_ntw:\n",
    "        next_ntw = line.split(\"=\")[1].strip()[1:-1].split(\",\")\n",
    "        next_ntw[1] = next_ntw[1].strip()\n",
    "        current_ntw = next_ntw[lorr[ilorr]]\n",
    "        ilorr = ilorr + 1 if ilorr<len(lorr)-1 else 0\n",
    "        steps+=1\n",
    "        if current_ntw == \"ZZZ\":\n",
    "            break\n",
    "        \n",
    "print(steps)\n",
    "        "
   ]
  },
  {
   "cell_type": "code",
   "execution_count": 18,
   "metadata": {},
   "outputs": [
    {
     "name": "stdout",
     "output_type": "stream",
     "text": [
      "[19631, 17287, 12599, 23147, 13771, 20803]\n"
     ]
    },
    {
     "data": {
      "text/plain": [
       "13129439557681"
      ]
     },
     "execution_count": 18,
     "metadata": {},
     "output_type": "execute_result"
    }
   ],
   "source": [
    "import numpy as np\n",
    "f = open('input.dat','r')\n",
    "lines = f.readlines()\n",
    "lines = [line.strip() for line in lines if line.strip()]\n",
    "f.close()\n",
    "lorr = lines.pop(0)\n",
    "lorr = [0 if x == 'L' else 1 for x in lorr]\n",
    "ilorr = 0\n",
    "\n",
    "steps=0\n",
    "current_ntw = []\n",
    "ntws = {}\n",
    "\n",
    "for i, line in enumerate(lines):\n",
    "    tmpcurrent_ntw = line.split('=')[0].strip()\n",
    "    if tmpcurrent_ntw[-1]==\"A\":\n",
    "        current_ntw.append(tmpcurrent_ntw)\n",
    "    \n",
    "    next_ntw = line.split(\"=\")[1].strip()[1:-1].split(\",\")\n",
    "    next_ntw[1] = next_ntw[1].strip()\n",
    "    ntws[tmpcurrent_ntw] = next_ntw\n",
    "    \n",
    "nparallel = len(current_ntw)\n",
    "individual_steps = [0]*nparallel\n",
    "while True:\n",
    "    starters = np.array([ntws[key] for key in current_ntw])\n",
    "    current_ntw = starters[:,lorr[ilorr]].tolist()\n",
    "\n",
    "    ilorr = ilorr + 1 if ilorr<len(lorr)-1 else 0\n",
    "    steps+=1\n",
    "    for i, c_ntw in enumerate(current_ntw):\n",
    "        if c_ntw[2] == \"Z\":\n",
    "            individual_steps[i]=steps\n",
    "\n",
    "    if np.all(np.array(individual_steps)) > 0:\n",
    "        break\n",
    "\n",
    "print(individual_steps)\n",
    "from math import lcm\n",
    "lcm(*individual_steps)\n"
   ]
  },
  {
   "cell_type": "code",
   "execution_count": 15,
   "metadata": {},
   "outputs": [
    {
     "data": {
      "text/plain": [
       "13129439557681"
      ]
     },
     "execution_count": 15,
     "metadata": {},
     "output_type": "execute_result"
    }
   ],
   "source": [
    "\n",
    "from math import lcm\n",
    "lcm(*individual_steps)\n"
   ]
  },
  {
   "cell_type": "code",
   "execution_count": 7,
   "metadata": {},
   "outputs": [
    {
     "name": "stdout",
     "output_type": "stream",
     "text": [
      "14\r"
     ]
    },
    {
     "ename": "KeyboardInterrupt",
     "evalue": "",
     "output_type": "error",
     "traceback": [
      "\u001b[0;31m---------------------------------------------------------------------------\u001b[0m",
      "\u001b[0;31mKeyboardInterrupt\u001b[0m                         Traceback (most recent call last)",
      "\u001b[1;32m/home/henrique/Dropbox/APC_Paris/Root/adventofcode2023/08/puzzle.ipynb Cell 3\u001b[0m line \u001b[0;36m4\n\u001b[1;32m      <a href='vscode-notebook-cell:/home/henrique/Dropbox/APC_Paris/Root/adventofcode2023/08/puzzle.ipynb#W2sZmlsZQ%3D%3D?line=1'>2</a>\u001b[0m \u001b[39mfor\u001b[39;00m i \u001b[39min\u001b[39;00m \u001b[39mrange\u001b[39m(\u001b[39m100\u001b[39m):\n\u001b[1;32m      <a href='vscode-notebook-cell:/home/henrique/Dropbox/APC_Paris/Root/adventofcode2023/08/puzzle.ipynb#W2sZmlsZQ%3D%3D?line=2'>3</a>\u001b[0m     \u001b[39mprint\u001b[39m(i,end\u001b[39m=\u001b[39m\u001b[39m'\u001b[39m\u001b[39m\\r\u001b[39;00m\u001b[39m'\u001b[39m)\n\u001b[0;32m----> <a href='vscode-notebook-cell:/home/henrique/Dropbox/APC_Paris/Root/adventofcode2023/08/puzzle.ipynb#W2sZmlsZQ%3D%3D?line=3'>4</a>\u001b[0m     time\u001b[39m.\u001b[39;49msleep(\u001b[39m0.2\u001b[39;49m)\n",
      "\u001b[0;31mKeyboardInterrupt\u001b[0m: "
     ]
    }
   ],
   "source": [
    "import time\n",
    "for i in range(100):\n",
    "    print(i,end='\\r')\n",
    "    time.sleep(0.2)"
   ]
  }
 ],
 "metadata": {
  "kernelspec": {
   "display_name": "Python 3",
   "language": "python",
   "name": "python3"
  },
  "language_info": {
   "codemirror_mode": {
    "name": "ipython",
    "version": 3
   },
   "file_extension": ".py",
   "mimetype": "text/x-python",
   "name": "python",
   "nbconvert_exporter": "python",
   "pygments_lexer": "ipython3",
   "version": "3.10.12"
  }
 },
 "nbformat": 4,
 "nbformat_minor": 2
}
