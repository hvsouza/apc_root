{
 "cells": [
  {
   "cell_type": "code",
   "execution_count": 32,
   "metadata": {},
   "outputs": [
    {
     "name": "stdout",
     "output_type": "stream",
     "text": [
      "[49, 78, 79, 80]\n",
      "[298, 1185, 1066, 1181]\n",
      "2269432\n"
     ]
    }
   ],
   "source": [
    "f = open(\"input.dat\",\"r\")\n",
    "lines = f.readlines()\n",
    "lines = [line.strip() for line in lines]\n",
    "f.close()\n",
    "\n",
    "lines\n",
    "times = list(map(int,lines[0].split(\":\")[1].split()))\n",
    "distance = list(map(int,lines[1].split(\":\")[1].split()))\n",
    "print(times)\n",
    "print(distance)\n",
    "\n",
    "res = 1\n",
    "for t, dmax in zip(times,distance):\n",
    "    nwins = 0\n",
    "    if dmax == 0:\n",
    "        assert False, \"No distance traveled\"\n",
    "    for charge_time in range(t):\n",
    "        velocity = charge_time\n",
    "        distance_reach = velocity*(t-charge_time)\n",
    "        if distance_reach > dmax:\n",
    "            nwins+=1\n",
    "    res *= nwins\n",
    "\n",
    "\n",
    "print(res)"
   ]
  },
  {
   "cell_type": "code",
   "execution_count": 50,
   "metadata": {},
   "outputs": [
    {
     "name": "stdout",
     "output_type": "stream",
     "text": [
      "[49787980]\n",
      "[298118510661181]\n",
      "35865985\n"
     ]
    }
   ],
   "source": [
    "\n",
    "f = open(\"input.dat\",\"r\")\n",
    "lines = f.readlines()\n",
    "lines = [line.strip() for line in lines]\n",
    "f.close()\n",
    "\n",
    "lines\n",
    "times = list(map(int,lines[0].split(\":\")[1].split()))\n",
    "distance = list(map(int,lines[1].split(\":\")[1].split()))\n",
    "\n",
    "times = lines[0].split(\":\")[1].split()\n",
    "distances = lines[1].split(\":\")[1].split()\n",
    "times = [int(''.join(times))]\n",
    "distances = [int(''.join(distances))]\n",
    "times\n",
    "print(times)\n",
    "print(distances)\n",
    "\n",
    "res = 1\n",
    "for t, dmax in zip(times,distances):\n",
    "    nwins = 0\n",
    "    if dmax == 0:\n",
    "        assert False, \"No distance traveled\"\n",
    "    for charge_time in range(t):\n",
    "        velocity = charge_time\n",
    "        distance_reach = velocity*(t-charge_time)\n",
    "        if distance_reach > dmax:\n",
    "            nwins+=1\n",
    "    res = nwins\n",
    "\n",
    "\n",
    "print(res)"
   ]
  }
 ],
 "metadata": {
  "kernelspec": {
   "display_name": "Python 3",
   "language": "python",
   "name": "python3"
  },
  "language_info": {
   "codemirror_mode": {
    "name": "ipython",
    "version": 3
   },
   "file_extension": ".py",
   "mimetype": "text/x-python",
   "name": "python",
   "nbconvert_exporter": "python",
   "pygments_lexer": "ipython3",
   "version": "3.10.12"
  }
 },
 "nbformat": 4,
 "nbformat_minor": 2
}
