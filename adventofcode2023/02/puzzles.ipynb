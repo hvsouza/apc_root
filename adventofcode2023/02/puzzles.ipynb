{
 "cells": [
  {
   "cell_type": "code",
   "execution_count": 124,
   "metadata": {},
   "outputs": [],
   "source": [
    "f = open(\"./input.dat\",\"r\")\n",
    "lines = [line.strip() for line in f.readlines() if line.strip()]\n",
    "f.close()\n"
   ]
  },
  {
   "cell_type": "code",
   "execution_count": 125,
   "metadata": {},
   "outputs": [
    {
     "data": {
      "text/plain": [
       "8"
      ]
     },
     "execution_count": 125,
     "metadata": {},
     "output_type": "execute_result"
    }
   ],
   "source": [
    "\n",
    "maxvalues = {\n",
    "    \"red\": 12,\n",
    "    \"green\": 13,\n",
    "    \"blue\": 14\n",
    "}\n",
    "valid_games = []\n",
    "for line in lines:\n",
    "    refid = line.find(\":\")\n",
    "    gameid = int(line[5:refid])\n",
    "    isValidGame = True\n",
    "    linecont = line[refid+2:]\n",
    "    each_show = [c.split(', ') for c in linecont.split('; ')]\n",
    "    # [print(x) for x in linecont.split('; ')]\n",
    "    # print()\n",
    "\n",
    "    for show in each_show:\n",
    "        for info in show:\n",
    "            for color, cmax in maxvalues.items():\n",
    "                idxcolor = info.find(color)\n",
    "                if idxcolor>0:\n",
    "                    ncolor = int(info[:idxcolor])\n",
    "                    # print(f'{color} {int(info[:idxcolor])}')\n",
    "                    if ncolor > cmax:\n",
    "                        isValidGame = False\n",
    "        # print()\n",
    "    if isValidGame:\n",
    "        valid_games.append(gameid)\n",
    "\n",
    "sum(valid_games)\n",
    "            \n",
    "            \n",
    "    \n"
   ]
  },
  {
   "cell_type": "code",
   "execution_count": 150,
   "metadata": {},
   "outputs": [
    {
     "data": {
      "text/plain": [
       "78375"
      ]
     },
     "execution_count": 150,
     "metadata": {},
     "output_type": "execute_result"
    }
   ],
   "source": [
    "f = open(\"./input.dat\",\"r\")\n",
    "lines = [line.strip() for line in f.readlines() if line.strip()]\n",
    "f.close()\n",
    "\n",
    "ret = []\n",
    "for line in lines:\n",
    "    minvalue = {\n",
    "        \"red\": -1,\n",
    "        \"green\": -1,\n",
    "        \"blue\": -1\n",
    "    }\n",
    "    refid = line.find(\":\")\n",
    "    gameid = int(line[5:refid])\n",
    "    linecont = line[refid+2:]\n",
    "    each_show = [c.split(', ') for c in linecont.split('; ')]\n",
    "    # [print(x) for x in linecont.split('; ')]\n",
    "    # print()\n",
    "    for show in each_show:\n",
    "        for info in show:\n",
    "            for color, cmin in minvalue.items():\n",
    "                idxcolor = info.find(color)\n",
    "                if idxcolor>0:\n",
    "                    ncolor = int(info[:idxcolor])\n",
    "                    if ncolor >= cmin:\n",
    "                        minvalue[color] = ncolor\n",
    "    # print(minvalue)\n",
    "    # print()\n",
    "\n",
    "    score = 1\n",
    "    for val in minvalue.values():\n",
    "        assert val>0, f\"{val}\"\n",
    "        score *= val\n",
    "    ret.append(score)\n",
    "        \n",
    "sum(ret)\n",
    "\n",
    "    "
   ]
  },
  {
   "cell_type": "code",
   "execution_count": 116,
   "metadata": {},
   "outputs": [],
   "source": []
  }
 ],
 "metadata": {
  "kernelspec": {
   "display_name": "Python 3",
   "language": "python",
   "name": "python3"
  },
  "language_info": {
   "codemirror_mode": {
    "name": "ipython",
    "version": 3
   },
   "file_extension": ".py",
   "mimetype": "text/x-python",
   "name": "python",
   "nbconvert_exporter": "python",
   "pygments_lexer": "ipython3",
   "version": "3.10.12"
  }
 },
 "nbformat": 4,
 "nbformat_minor": 2
}
