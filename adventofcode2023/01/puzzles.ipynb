{
 "cells": [
  {
   "cell_type": "code",
   "execution_count": 5,
   "metadata": {},
   "outputs": [],
   "source": [
    "values = []\n",
    "\n",
    "with open(\"imput.dat\") as f:\n",
    "    lines = f.readlines()\n",
    "    for line in lines:\n",
    "        v = []\n",
    "        for c in line:\n",
    "            try:\n",
    "                tmp = int(c)\n",
    "                v.append(tmp)\n",
    "            except:\n",
    "                continue\n",
    "        if len(v)>0:\n",
    "            values.append(v[0]*10 + v[-1])\n",
    "        else:\n",
    "            continue\n",
    "\n"
   ]
  },
  {
   "cell_type": "code",
   "execution_count": 8,
   "metadata": {},
   "outputs": [
    {
     "data": {
      "text/plain": [
       "54573"
      ]
     },
     "execution_count": 8,
     "metadata": {},
     "output_type": "execute_result"
    }
   ],
   "source": [
    "# answer \n",
    "sum(values)"
   ]
  },
  {
   "cell_type": "code",
   "execution_count": 56,
   "metadata": {},
   "outputs": [],
   "source": [
    "written = {\n",
    "    \"one\": 1,\n",
    "    \"two\": 2,\n",
    "    \"three\": 3,\n",
    "    \"four\": 4,\n",
    "    \"five\": 5,\n",
    "    \"six\": 6,\n",
    "    \"seven\": 7,\n",
    "    \"eight\": 8,\n",
    "    \"nine\": 9\n",
    "}\n",
    "values = []\n",
    "with open(\"imput.dat\") as f:\n",
    "    lines = f.readlines()\n",
    "    for nl, line in enumerate(lines):\n",
    "        line:str\n",
    "        line = line.strip()\n",
    "        v = []\n",
    "        idx = []\n",
    "        for w, numb in written.items():\n",
    "            start = 0\n",
    "            while True:\n",
    "                subline = line[start:]\n",
    "                idxw = subline.find(w)\n",
    "\n",
    "                if idxw>=0:\n",
    "                    idx.append(idxw+start)\n",
    "                    v.append(numb)\n",
    "                    start += idxw+1\n",
    "                else:\n",
    "                    break\n",
    "\n",
    "        for i, c in enumerate(line):\n",
    "            try:\n",
    "                tmp = int(c)\n",
    "                idx.append(i)\n",
    "                v.append(tmp)\n",
    "            except:\n",
    "                pass\n",
    "        if len(v)>0:\n",
    "            test = set(idx)\n",
    "            z = [x for _, x in sorted(zip(idx,v))]\n",
    "            values.append(z[0]*10 + z[-1])\n",
    "            if len(test) != len(idx):\n",
    "                print(f'{v} {line}')\n",
    "                print(idx)\n",
    "                print(f'{z} {values[-1]}')\n",
    "        else:\n",
    "            continue"
   ]
  },
  {
   "cell_type": "code",
   "execution_count": 57,
   "metadata": {},
   "outputs": [
    {
     "data": {
      "text/plain": [
       "54591"
      ]
     },
     "execution_count": 57,
     "metadata": {},
     "output_type": "execute_result"
    }
   ],
   "source": [
    "# answer\n",
    "sum(values)"
   ]
  },
  {
   "cell_type": "code",
   "execution_count": 29,
   "metadata": {},
   "outputs": [
    {
     "name": "stdout",
     "output_type": "stream",
     "text": [
      "one\n",
      "one\n"
     ]
    }
   ],
   "source": []
  },
  {
   "cell_type": "code",
   "execution_count": null,
   "metadata": {},
   "outputs": [],
   "source": []
  }
 ],
 "metadata": {
  "kernelspec": {
   "display_name": "Python 3",
   "language": "python",
   "name": "python3"
  },
  "language_info": {
   "codemirror_mode": {
    "name": "ipython",
    "version": 3
   },
   "file_extension": ".py",
   "mimetype": "text/x-python",
   "name": "python",
   "nbconvert_exporter": "python",
   "pygments_lexer": "ipython3",
   "version": "3.10.12"
  }
 },
 "nbformat": 4,
 "nbformat_minor": 2
}
