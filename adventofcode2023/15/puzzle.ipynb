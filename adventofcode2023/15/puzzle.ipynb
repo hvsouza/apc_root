{
 "cells": [
  {
   "cell_type": "code",
   "execution_count": 78,
   "metadata": {},
   "outputs": [
    {
     "name": "stdout",
     "output_type": "stream",
     "text": [
      "1320\n"
     ]
    }
   ],
   "source": [
    "f = open('input.dat')\n",
    "lines = f.readlines()\n",
    "lines = [line.strip() for line in lines if line.strip()]\n",
    "f.close()\n",
    "lines = ''.join(lines)\n",
    "lines = lines.split(',')\n",
    "lines\n",
    "\n",
    "ret = 0\n",
    "for line in lines:\n",
    "    value=0\n",
    "    for c in line:\n",
    "        cvalue = value\n",
    "        cvalue += ord(c)\n",
    "        cvalue *= 17\n",
    "        cvalue = cvalue%256\n",
    "        value = cvalue\n",
    "    ret+=value\n",
    "\n",
    "\n",
    "print(ret)"
   ]
  },
  {
   "cell_type": "code",
   "execution_count": 178,
   "metadata": {},
   "outputs": [
    {
     "name": "stdout",
     "output_type": "stream",
     "text": [
      "239484\n"
     ]
    }
   ],
   "source": [
    "import re\n",
    "\n",
    "f = open('input.dat')\n",
    "lines = f.readlines()\n",
    "lines = [line.strip() for line in lines if line.strip()]\n",
    "f.close()\n",
    "\n",
    "\n",
    "lines = ''.join(lines)\n",
    "lines = lines.split(',')\n",
    "lines\n",
    "\n",
    "def HASH(line_):\n",
    "    # print(line_)\n",
    "    line_s = re.split(\"=|-\",line_)\n",
    "    line = line_s[0]\n",
    "    fd = 0\n",
    "    if line_s[1]!='':\n",
    "        fd = int(line_s[1])\n",
    "        if fd==0:\n",
    "            assert False, \"Zero?\"\n",
    "    ret = 0\n",
    "    value=0\n",
    "    for c in line:\n",
    "        cvalue = value\n",
    "        cvalue += ord(c)\n",
    "        cvalue *= 17\n",
    "        cvalue = cvalue%256\n",
    "        value = cvalue\n",
    "    ret+=value\n",
    "\n",
    "    return ret, line, fd\n",
    "\n",
    "boxes = {id:{} for id in range(256)}\n",
    "for line in lines:\n",
    "    boxid, klabel, fd = HASH(line)\n",
    "    # print(boxid, klabel, fd)\n",
    "    if fd != 0:\n",
    "        boxes[boxid][klabel] = fd\n",
    "    else:\n",
    "        if klabel in boxes[boxid].keys():\n",
    "            boxes[boxid].pop(klabel)\n",
    "ret = 0\n",
    "for box,val in boxes.items():\n",
    "    for i, (label, fd) in enumerate(val.items()):\n",
    "        retbox = box+1\n",
    "        # print(i, label, fd)\n",
    "        retbox*=(i+1)*fd\n",
    "        ret+=retbox\n",
    "print(ret)"
   ]
  },
  {
   "cell_type": "code",
   "execution_count": 161,
   "metadata": {},
   "outputs": [
    {
     "data": {
      "text/plain": [
       "{'b': 1, 'c': 2}"
      ]
     },
     "execution_count": 161,
     "metadata": {},
     "output_type": "execute_result"
    }
   ],
   "source": [
    "a = {'b':1, 'c':2}\n",
    "a['b']k"
   ]
  }
 ],
 "metadata": {
  "kernelspec": {
   "display_name": "Python 3",
   "language": "python",
   "name": "python3"
  },
  "language_info": {
   "codemirror_mode": {
    "name": "ipython",
    "version": 3
   },
   "file_extension": ".py",
   "mimetype": "text/x-python",
   "name": "python",
   "nbconvert_exporter": "python",
   "pygments_lexer": "ipython3",
   "version": "3.10.12"
  }
 },
 "nbformat": 4,
 "nbformat_minor": 2
}
