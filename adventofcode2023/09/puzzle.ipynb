{
 "cells": [
  {
   "cell_type": "code",
   "execution_count": 101,
   "metadata": {},
   "outputs": [
    {
     "name": "stdout",
     "output_type": "stream",
     "text": [
      "1842168671\n"
     ]
    }
   ],
   "source": [
    "import numpy as np\n",
    "f = open('input.dat', 'r')\n",
    "lines = f.readlines()\n",
    "lines = [np.array(list(map(int,line.strip().split()))) for line in lines if line.strip()]\n",
    "f.close()\n",
    "\n",
    "ret = 0\n",
    "for line in lines:\n",
    "    steps = []\n",
    "    tmp = line\n",
    "    steps.append(line)\n",
    "    while True:\n",
    "        steps_ = tmp[1:] - tmp[:-1]\n",
    "        steps.append(steps_)\n",
    "        if np.all(steps_ == steps_[0]):\n",
    "           break \n",
    "        tmp = steps_\n",
    "    steps = [list(x) for x in steps]\n",
    "    for i in reversed(range(0,len(steps))):\n",
    "        # print(i, steps[i], steps[i-1])\n",
    "        steps[i-1].append(steps[i-1][-1] + steps[i][-1])\n",
    "    # print()\n",
    "    last = steps[0][-1]\n",
    "    ret += last\n",
    "\n",
    "print(ret)"
   ]
  },
  {
   "cell_type": "code",
   "execution_count": 100,
   "metadata": {},
   "outputs": [
    {
     "name": "stdout",
     "output_type": "stream",
     "text": [
      "903\n"
     ]
    }
   ],
   "source": [
    "import numpy as np\n",
    "f = open('input.dat', 'r')\n",
    "lines = f.readlines()\n",
    "lines = [np.array(list(map(int,line.strip().split()))) for line in lines if line.strip()]\n",
    "f.close()\n",
    "\n",
    "ret = 0\n",
    "for line in lines:\n",
    "    steps = []\n",
    "    tmp = line\n",
    "    steps.append(line)\n",
    "    while True:\n",
    "        steps_ = tmp[1:] - tmp[:-1]\n",
    "        steps.append(steps_)\n",
    "        if np.all(steps_ == steps_[0]):\n",
    "           break \n",
    "        tmp = steps_\n",
    "    steps = [list(x) for x in steps]\n",
    "    for i in reversed(range(0,len(steps))):\n",
    "        # print(i, steps[i], steps[i-1])\n",
    "        steps[i-1].insert(0,(steps[i-1][0] - steps[i][0]))\n",
    "    # print()\n",
    "    last = steps[0][0]\n",
    "    ret += last\n",
    "\n",
    "print(ret)"
   ]
  }
 ],
 "metadata": {
  "kernelspec": {
   "display_name": "Python 3",
   "language": "python",
   "name": "python3"
  },
  "language_info": {
   "codemirror_mode": {
    "name": "ipython",
    "version": 3
   },
   "file_extension": ".py",
   "mimetype": "text/x-python",
   "name": "python",
   "nbconvert_exporter": "python",
   "pygments_lexer": "ipython3",
   "version": "3.10.12"
  }
 },
 "nbformat": 4,
 "nbformat_minor": 2
}
