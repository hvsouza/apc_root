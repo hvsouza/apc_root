{
 "cells": [
  {
   "cell_type": "code",
   "execution_count": 275,
   "metadata": {},
   "outputs": [],
   "source": [
    "f = open(\"input.dat\",\"r\")\n",
    "lines = f.readlines()\n",
    "lines = [line.strip() for line in lines]\n",
    "f.close()"
   ]
  },
  {
   "cell_type": "code",
   "execution_count": 273,
   "metadata": {},
   "outputs": [
    {
     "name": "stdout",
     "output_type": "stream",
     "text": [
      "1090\n"
     ]
    },
    {
     "data": {
      "text/plain": [
       "546563"
      ]
     },
     "execution_count": 273,
     "metadata": {},
     "output_type": "execute_result"
    }
   ],
   "source": [
    "def check_simbol(line: str, j:int, step_left:int, step_right:int, checksame = True) -> bool:\n",
    "    if checksame and not line[j].isnumeric() and not line[j] == '.':\n",
    "        return True\n",
    "\n",
    "    if step_left!=0 and  not line[j+step_left].isnumeric() and not line[j+step_left] == '.':\n",
    "        return True\n",
    "    \n",
    "    if step_right!=0 and not line[j+step_right].isnumeric() and not line[j+step_right] == '.':\n",
    "        return True\n",
    "\n",
    "    return False\n",
    "\n",
    "nchars = len(lines[0])\n",
    "total_lines = len(lines)\n",
    "valid_code = []\n",
    "for i, line in enumerate(lines):\n",
    "    step_up = -1 # for looking up and down the line\n",
    "    step_down = 1\n",
    "    if i == 0:\n",
    "        step_up = 0\n",
    "    elif i == total_lines-1:\n",
    "        step_down = 0\n",
    "\n",
    "    found_a_number = False\n",
    "    have_symbol = False\n",
    "    for j, c in enumerate(line):\n",
    "        \n",
    "        if c.isnumeric() and j != nchars-1:\n",
    "            if found_a_number == False:\n",
    "                start_of_number = j\n",
    "                found_a_number = True \n",
    "        elif not c.isnumeric() or j == nchars-1:\n",
    "            if not found_a_number:\n",
    "                if c.isnumeric():\n",
    "                    found_a_number = True\n",
    "                    start_of_number = j\n",
    "            if found_a_number:\n",
    "                end_of_number = j\n",
    "                if c.isnumeric():\n",
    "                    end_of_number+=1\n",
    "\n",
    "                for digit, k in enumerate(range(start_of_number, end_of_number)):\n",
    "                    step_left = -1 # for looking left and right in the line\n",
    "                    step_right = 1\n",
    "                    if k == 0:\n",
    "                        step_left = 0\n",
    "                    elif k == nchars-1:\n",
    "                        step_right = 0\n",
    "                    checksame = True\n",
    "                    # if end_of_number-start_of_number==1:\n",
    "                    #     checksame = False\n",
    "                    # if end_of_number-start_of_number==3:\n",
    "                    #     if digit == 0:\n",
    "                    #         step_right = 0\n",
    "                    #     if digit == 1:\n",
    "                    #         checksame = False\n",
    "                    #     if digit == 2:\n",
    "                    #         step_left = 0\n",
    "                    have_symbol = have_symbol or check_simbol(line, k, step_left, step_right) # same line \n",
    "                    have_symbol = have_symbol or check_simbol(lines[i+step_up], k, step_left, step_right, checksame=checksame)\n",
    "                    have_symbol = have_symbol or check_simbol(lines[i+step_down], k, step_left, step_right, checksame=checksame)\n",
    "\n",
    "                if have_symbol:\n",
    "                    code = int(line[start_of_number:end_of_number])\n",
    "                    valid_code.append(code)\n",
    "            found_a_number = False\n",
    "            have_symbol = False\n",
    "        \n",
    "            \n",
    "            \n",
    "print(len(valid_code))\n",
    "sum(valid_code)"
   ]
  },
  {
   "cell_type": "code",
   "execution_count": 365,
   "metadata": {},
   "outputs": [
    {
     "name": "stdout",
     "output_type": "stream",
     "text": [
      "[118900, 207993, 260996, 124656, 367224, 182726, 346884, 456221, 362790, 583099, 280896, 186706, 7500, 428204, 40658, 27335, 587760, 98080, 68952, 436304, 183816, 113520, 12920, 225893, 80565, 153110, 3760, 494375, 626715, 265780, 126126, 135600, 37023, 85988, 373086, 300966, 345540, 721680, 172790, 562424, 88437, 45872, 193764, 50691, 8820, 209908, 376442, 300674, 87508, 577771, 900277, 409452, 210372, 278362, 85212, 486472, 577920, 102872, 208161, 451914, 508610, 21827, 34380, 299568, 515774, 172156, 357408, 40386, 190491, 164220, 320436, 672966, 181256, 453564, 547724, 11088, 245985, 255177, 174370, 736351, 26290, 186960, 504190, 264910, 112996, 825162, 20298, 448200, 95403, 29718, 340356, 258075, 292348, 344088, 543510, 21235, 47300, 122250, 341379, 205105, 897615, 271460, 171801, 346212, 194940, 35986, 329498, 17052, 11752, 380520, 572800, 6958, 551177, 74358, 124608, 630396, 660475, 316520, 89211, 49200, 158239, 206092, 394680, 591522, 567816, 271959, 490770, 872640, 800215, 341, 183480, 90558, 18444, 605097, 504845, 50774, 165300, 171182, 729018, 718124, 7076, 46768, 374775, 174382, 262275, 52500, 83848, 29394, 109710, 24308, 97921, 10626, 216580, 820211, 74898, 247896, 495423, 314521, 288456, 500250, 118420, 500802, 48620, 40090, 111072, 68796, 399510, 48169, 770883, 88466, 537667, 163605, 428298, 16124, 171602, 52290, 88881, 37145, 2720, 283420, 367752, 178078, 98816, 118816, 191364, 110028, 92820, 101728, 480557, 29151, 123516, 71100, 134289, 763724, 85068, 374187, 124024, 5611, 59724, 71280, 86095, 627252, 287244, 5085, 89847, 552109, 34340, 529720, 196614, 5504, 556930, 119380, 84735, 220080, 491130, 30530, 663632, 455400, 734020, 706612, 791700, 90400, 2616, 120201, 10323, 87804, 103983, 161994, 243, 390696, 331545, 547116, 124740, 380752, 831519, 183872, 4761, 382392, 66300, 41275, 2219, 528410, 218584, 96552, 588060, 73336, 470076, 14134, 576190, 50844, 740220, 143901, 16137, 79606, 708412, 111720, 20724, 380980, 84912, 157542, 143468, 113316, 187071, 41067, 825957, 347328, 151844, 578692, 122816, 640618, 337428, 389850, 25155, 186068, 250510, 70485, 332716, 743626, 282100, 24174, 899232, 274634, 634680, 133392, 9757, 305760, 288010, 521664, 60992, 365792, 23320, 289133, 131340, 376745, 92785, 791945, 13275, 161355, 587190, 215864, 172260, 151680, 511982, 278096, 121590, 385628, 492866, 18468, 381709, 180792, 86478, 241056, 741760, 299446, 12190, 60417, 18620, 177282, 549840, 30843, 96624, 48006, 139425, 37632, 188, 13426, 51731, 24165, 46452, 145770, 84328, 96612, 4540, 33341, 64545, 257484, 639653, 101304, 228456, 395648, 664110, 228228, 516561, 714511, 87127, 121968, 868854, 3744, 346096]\n",
      "91031374\n"
     ]
    }
   ],
   "source": [
    "f = open(\"input.dat\",\"r\")\n",
    "lines = f.readlines()\n",
    "lines = [line.strip() for line in lines]\n",
    "f.close()\n",
    "\n",
    "def check_number(line: str, j:int, step_horizontal:int):\n",
    "    if line[j+step_horizontal].isnumeric():\n",
    "        return j+step_horizontal\n",
    "    return None\n",
    "\n",
    "def find_number(lines:str, coord:list):\n",
    "    line = lines[coord[0]]\n",
    "    idx_digit = coord[1]\n",
    "    idxes = [idx_digit]\n",
    "    if not line[idx_digit].isnumeric():\n",
    "        assert False, f\"Something wrong {line[idx_digit]} {line}\"\n",
    "    nchar = len(line)\n",
    "    if idx_digit != nchar-1:\n",
    "        for k in range(idx_digit+1, nchar):\n",
    "            if line[k].isnumeric():\n",
    "                idxes.append(k)\n",
    "            else:\n",
    "                break\n",
    "    if idx_digit > 0:\n",
    "        for k in range(idx_digit-1, -1, -1):\n",
    "            if line[k].isnumeric():\n",
    "                idxes.append(k)\n",
    "            else:\n",
    "                break\n",
    "    idxes = sorted(idxes)\n",
    "    num = line[idxes[0]:idxes[-1]+1]\n",
    "    return num\n",
    "\n",
    "nchars = len(lines[0])\n",
    "total_lines = len(lines)\n",
    "res = []\n",
    "for i, line in enumerate(lines):\n",
    "    step_up = -1 # for looking up and down the line\n",
    "    step_down = 1\n",
    "    if i == 0:\n",
    "        step_up = 0\n",
    "    elif i == total_lines-1:\n",
    "        step_down = 0\n",
    "\n",
    "    for j, c in enumerate(line):\n",
    "        \n",
    "        step_left = -1 # for looking left and right in the line\n",
    "        step_right = 1\n",
    "        if j == 0:\n",
    "            step_left = 0\n",
    "        elif j == nchars-1:\n",
    "            step_right = 0\n",
    "\n",
    "        if c == \"*\":\n",
    "            number_match = []\n",
    "            for delta_v in range(step_up, step_down+1):\n",
    "                found_one_horizontal = False\n",
    "                for delta_h in range(step_left, step_right+1):\n",
    "                    val = check_number(lines[i+delta_v], j, delta_h)\n",
    "                    if val:\n",
    "                        if found_one_horizontal==False:\n",
    "                            found_one_horizontal = True\n",
    "                            number_match.append([i+delta_v,val])\n",
    "                    else:\n",
    "                        found_one_horizontal = False\n",
    "            if len(number_match)==2:\n",
    "                num1 = int(find_number(lines, number_match[0]))\n",
    "                num2 = int(find_number(lines, number_match[1]))\n",
    "                # print(i, j, num1, num2, '\\t', line)\n",
    "                res.append(num1*num2)\n",
    "            \n",
    "print(res)\n",
    "print(sum(res))\n",
    "\n",
    "\n",
    "        \n",
    "            \n",
    "            "
   ]
  },
  {
   "cell_type": "code",
   "execution_count": 282,
   "metadata": {},
   "outputs": [
    {
     "name": "stdout",
     "output_type": "stream",
     "text": [
      "-1\n",
      "0\n",
      "1\n"
     ]
    }
   ],
   "source": [
    "for i in range(-1,1+1):\n",
    "    print(i)"
   ]
  },
  {
   "cell_type": "code",
   "execution_count": null,
   "metadata": {},
   "outputs": [],
   "source": []
  }
 ],
 "metadata": {
  "kernelspec": {
   "display_name": "Python 3",
   "language": "python",
   "name": "python3"
  },
  "language_info": {
   "codemirror_mode": {
    "name": "ipython",
    "version": 3
   },
   "file_extension": ".py",
   "mimetype": "text/x-python",
   "name": "python",
   "nbconvert_exporter": "python",
   "pygments_lexer": "ipython3",
   "version": "3.10.12"
  }
 },
 "nbformat": 4,
 "nbformat_minor": 2
}
